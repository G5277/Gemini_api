{
  "nbformat": 4,
  "nbformat_minor": 0,
  "metadata": {
    "colab": {
      "provenance": [],
      "authorship_tag": "ABX9TyN4kVEGxoAHXmyvchySjVhS",
      "include_colab_link": true
    },
    "kernelspec": {
      "name": "python3",
      "display_name": "Python 3"
    },
    "language_info": {
      "name": "python"
    }
  },
  "cells": [
    {
      "cell_type": "markdown",
      "metadata": {
        "id": "view-in-github",
        "colab_type": "text"
      },
      "source": [
        "<a href=\"https://colab.research.google.com/github/G5277/Gemini_api/blob/main/Chat_with_Documents.ipynb\" target=\"_parent\"><img src=\"https://colab.research.google.com/assets/colab-badge.svg\" alt=\"Open In Colab\"/></a>"
      ]
    },
    {
      "cell_type": "code",
      "source": [
        "!pip install -q --upgrade google-generativeai langchain-google-genai chromadb pypdf"
      ],
      "metadata": {
        "colab": {
          "base_uri": "https://localhost:8080/"
        },
        "id": "BgdHrLqRhBny",
        "outputId": "6021c6c7-61a3-46e2-8462-c29ba3e5c5d5"
      },
      "execution_count": 2,
      "outputs": [
        {
          "output_type": "stream",
          "name": "stdout",
          "text": [
            "\u001b[?25l     \u001b[90m━━━━━━━━━━━━━━━━━━━━━━━━━━━━━━━━━━━━━━━━\u001b[0m \u001b[32m0.0/67.3 kB\u001b[0m \u001b[31m?\u001b[0m eta \u001b[36m-:--:--\u001b[0m\r\u001b[2K     \u001b[91m━━━━━━━━━━━━━━━━━━━━━━━━━━━━━━━━━━━━\u001b[0m\u001b[91m╸\u001b[0m\u001b[90m━━━\u001b[0m \u001b[32m61.4/67.3 kB\u001b[0m \u001b[31m1.9 MB/s\u001b[0m eta \u001b[36m0:00:01\u001b[0m\r\u001b[2K     \u001b[90m━━━━━━━━━━━━━━━━━━━━━━━━━━━━━━━━━━━━━━━━\u001b[0m \u001b[32m67.3/67.3 kB\u001b[0m \u001b[31m1.3 MB/s\u001b[0m eta \u001b[36m0:00:00\u001b[0m\n",
            "\u001b[?25h  Installing build dependencies ... \u001b[?25l\u001b[?25hdone\n",
            "  Getting requirements to build wheel ... \u001b[?25l\u001b[?25hdone\n",
            "  Preparing metadata (pyproject.toml) ... \u001b[?25l\u001b[?25hdone\n",
            "\u001b[2K   \u001b[90m━━━━━━━━━━━━━━━━━━━━━━━━━━━━━━━━━━━━━━━━\u001b[0m \u001b[32m584.3/584.3 kB\u001b[0m \u001b[31m6.5 MB/s\u001b[0m eta \u001b[36m0:00:00\u001b[0m\n",
            "\u001b[2K   \u001b[90m━━━━━━━━━━━━━━━━━━━━━━━━━━━━━━━━━━━━━━━━\u001b[0m \u001b[32m2.4/2.4 MB\u001b[0m \u001b[31m27.9 MB/s\u001b[0m eta \u001b[36m0:00:00\u001b[0m\n",
            "\u001b[2K   \u001b[90m━━━━━━━━━━━━━━━━━━━━━━━━━━━━━━━━━━━━━━━━\u001b[0m \u001b[32m295.8/295.8 kB\u001b[0m \u001b[31m17.7 MB/s\u001b[0m eta \u001b[36m0:00:00\u001b[0m\n",
            "\u001b[2K   \u001b[90m━━━━━━━━━━━━━━━━━━━━━━━━━━━━━━━━━━━━━━━━\u001b[0m \u001b[32m273.8/273.8 kB\u001b[0m \u001b[31m16.1 MB/s\u001b[0m eta \u001b[36m0:00:00\u001b[0m\n",
            "\u001b[2K   \u001b[90m━━━━━━━━━━━━━━━━━━━━━━━━━━━━━━━━━━━━━━━━\u001b[0m \u001b[32m93.1/93.1 kB\u001b[0m \u001b[31m5.5 MB/s\u001b[0m eta \u001b[36m0:00:00\u001b[0m\n",
            "\u001b[2K   \u001b[90m━━━━━━━━━━━━━━━━━━━━━━━━━━━━━━━━━━━━━━━━\u001b[0m \u001b[32m75.6/75.6 kB\u001b[0m \u001b[31m5.0 MB/s\u001b[0m eta \u001b[36m0:00:00\u001b[0m\n",
            "\u001b[2K   \u001b[90m━━━━━━━━━━━━━━━━━━━━━━━━━━━━━━━━━━━━━━━━\u001b[0m \u001b[32m77.9/77.9 kB\u001b[0m \u001b[31m4.6 MB/s\u001b[0m eta \u001b[36m0:00:00\u001b[0m\n",
            "\u001b[2K   \u001b[90m━━━━━━━━━━━━━━━━━━━━━━━━━━━━━━━━━━━━━━━━\u001b[0m \u001b[32m1.7/1.7 MB\u001b[0m \u001b[31m49.4 MB/s\u001b[0m eta \u001b[36m0:00:00\u001b[0m\n",
            "\u001b[2K   \u001b[90m━━━━━━━━━━━━━━━━━━━━━━━━━━━━━━━━━━━━━━━━\u001b[0m \u001b[32m67.6/67.6 kB\u001b[0m \u001b[31m3.7 MB/s\u001b[0m eta \u001b[36m0:00:00\u001b[0m\n",
            "\u001b[2K   \u001b[90m━━━━━━━━━━━━━━━━━━━━━━━━━━━━━━━━━━━━━━━━\u001b[0m \u001b[32m6.8/6.8 MB\u001b[0m \u001b[31m66.5 MB/s\u001b[0m eta \u001b[36m0:00:00\u001b[0m\n",
            "\u001b[2K   \u001b[90m━━━━━━━━━━━━━━━━━━━━━━━━━━━━━━━━━━━━━━━━\u001b[0m \u001b[32m61.5/61.5 kB\u001b[0m \u001b[31m3.7 MB/s\u001b[0m eta \u001b[36m0:00:00\u001b[0m\n",
            "\u001b[2K   \u001b[90m━━━━━━━━━━━━━━━━━━━━━━━━━━━━━━━━━━━━━━━━\u001b[0m \u001b[32m52.5/52.5 kB\u001b[0m \u001b[31m3.1 MB/s\u001b[0m eta \u001b[36m0:00:00\u001b[0m\n",
            "\u001b[2K   \u001b[90m━━━━━━━━━━━━━━━━━━━━━━━━━━━━━━━━━━━━━━━━\u001b[0m \u001b[32m138.0/138.0 kB\u001b[0m \u001b[31m8.2 MB/s\u001b[0m eta \u001b[36m0:00:00\u001b[0m\n",
            "\u001b[2K   \u001b[90m━━━━━━━━━━━━━━━━━━━━━━━━━━━━━━━━━━━━━━━━\u001b[0m \u001b[32m109.5/109.5 kB\u001b[0m \u001b[31m7.0 MB/s\u001b[0m eta \u001b[36m0:00:00\u001b[0m\n",
            "\u001b[2K   \u001b[90m━━━━━━━━━━━━━━━━━━━━━━━━━━━━━━━━━━━━━━━━\u001b[0m \u001b[32m41.3/41.3 kB\u001b[0m \u001b[31m2.4 MB/s\u001b[0m eta \u001b[36m0:00:00\u001b[0m\n",
            "\u001b[2K   \u001b[90m━━━━━━━━━━━━━━━━━━━━━━━━━━━━━━━━━━━━━━━━\u001b[0m \u001b[32m62.8/62.8 kB\u001b[0m \u001b[31m3.4 MB/s\u001b[0m eta \u001b[36m0:00:00\u001b[0m\n",
            "\u001b[2K   \u001b[90m━━━━━━━━━━━━━━━━━━━━━━━━━━━━━━━━━━━━━━━━\u001b[0m \u001b[32m58.3/58.3 kB\u001b[0m \u001b[31m3.4 MB/s\u001b[0m eta \u001b[36m0:00:00\u001b[0m\n",
            "\u001b[2K   \u001b[90m━━━━━━━━━━━━━━━━━━━━━━━━━━━━━━━━━━━━━━━━\u001b[0m \u001b[32m341.4/341.4 kB\u001b[0m \u001b[31m18.1 MB/s\u001b[0m eta \u001b[36m0:00:00\u001b[0m\n",
            "\u001b[2K   \u001b[90m━━━━━━━━━━━━━━━━━━━━━━━━━━━━━━━━━━━━━━━━\u001b[0m \u001b[32m71.9/71.9 kB\u001b[0m \u001b[31m4.4 MB/s\u001b[0m eta \u001b[36m0:00:00\u001b[0m\n",
            "\u001b[2K   \u001b[90m━━━━━━━━━━━━━━━━━━━━━━━━━━━━━━━━━━━━━━━━\u001b[0m \u001b[32m3.4/3.4 MB\u001b[0m \u001b[31m68.7 MB/s\u001b[0m eta \u001b[36m0:00:00\u001b[0m\n",
            "\u001b[2K   \u001b[90m━━━━━━━━━━━━━━━━━━━━━━━━━━━━━━━━━━━━━━━━\u001b[0m \u001b[32m427.7/427.7 kB\u001b[0m \u001b[31m23.3 MB/s\u001b[0m eta \u001b[36m0:00:00\u001b[0m\n",
            "\u001b[2K   \u001b[90m━━━━━━━━━━━━━━━━━━━━━━━━━━━━━━━━━━━━━━━━\u001b[0m \u001b[32m130.2/130.2 kB\u001b[0m \u001b[31m9.2 MB/s\u001b[0m eta \u001b[36m0:00:00\u001b[0m\n",
            "\u001b[2K   \u001b[90m━━━━━━━━━━━━━━━━━━━━━━━━━━━━━━━━━━━━━━━━\u001b[0m \u001b[32m46.0/46.0 kB\u001b[0m \u001b[31m2.7 MB/s\u001b[0m eta \u001b[36m0:00:00\u001b[0m\n",
            "\u001b[2K   \u001b[90m━━━━━━━━━━━━━━━━━━━━━━━━━━━━━━━━━━━━━━━━\u001b[0m \u001b[32m86.8/86.8 kB\u001b[0m \u001b[31m5.4 MB/s\u001b[0m eta \u001b[36m0:00:00\u001b[0m\n",
            "\u001b[?25h  Building wheel for pypika (pyproject.toml) ... \u001b[?25l\u001b[?25hdone\n"
          ]
        }
      ]
    },
    {
      "cell_type": "code",
      "source": [
        "from langchain_google_genai import ChatGoogleGenerativeAI\n",
        "\n"
      ],
      "metadata": {
        "id": "C3VM1-4shcmq"
      },
      "execution_count": 6,
      "outputs": []
    },
    {
      "cell_type": "code",
      "source": [
        "from IPython.display import display\n",
        "from IPython.display import Markdown\n",
        "import textwrap\n",
        "\n",
        "def to_markdown(text):\n",
        "  text = text.replace('•','*')\n",
        "  return Markdown(textwrap.indent(text, '>', predicate = lambda _:True))"
      ],
      "metadata": {
        "id": "-BkGki9ghBfU"
      },
      "execution_count": 24,
      "outputs": []
    },
    {
      "cell_type": "code",
      "source": [
        "import google.generativeai as genai\n",
        "from google.colab import userdata"
      ],
      "metadata": {
        "id": "fhqdMfqyhF4t"
      },
      "execution_count": 4,
      "outputs": []
    },
    {
      "cell_type": "code",
      "source": [
        "import os\n",
        "GOOGLE_API_KEY = userdata.get('GOOGLE_API_KEY')\n",
        "genai.configure(api_key  = GOOGLE_API_KEY)"
      ],
      "metadata": {
        "id": "U0pbzP4ohHdP"
      },
      "execution_count": 5,
      "outputs": []
    },
    {
      "cell_type": "code",
      "execution_count": 1,
      "metadata": {
        "colab": {
          "base_uri": "https://localhost:8080/"
        },
        "id": "Zr-WJJungpoq",
        "outputId": "046f7f7d-f983-407c-9448-89c79661f189"
      },
      "outputs": [
        {
          "output_type": "stream",
          "name": "stdout",
          "text": [
            "The following additional packages will be installed:\n",
            "  libarchive-dev libleptonica-dev tesseract-ocr-eng tesseract-ocr-osd\n",
            "The following NEW packages will be installed:\n",
            "  libarchive-dev libleptonica-dev libtesseract-dev tesseract-ocr\n",
            "  tesseract-ocr-eng tesseract-ocr-osd\n",
            "0 upgraded, 6 newly installed, 0 to remove and 45 not upgraded.\n",
            "Need to get 8,560 kB of archives.\n",
            "After this operation, 31.6 MB of additional disk space will be used.\n",
            "debconf: unable to initialize frontend: Dialog\n",
            "debconf: (No usable dialog-like program is installed, so the dialog based frontend cannot be used. at /usr/share/perl5/Debconf/FrontEnd/Dialog.pm line 78, <> line 6.)\n",
            "debconf: falling back to frontend: Readline\n",
            "debconf: unable to initialize frontend: Readline\n",
            "debconf: (This frontend requires a controlling tty.)\n",
            "debconf: falling back to frontend: Teletype\n",
            "dpkg-preconfigure: unable to re-open stdin: \n",
            "Selecting previously unselected package libarchive-dev:amd64.\n",
            "(Reading database ... 123594 files and directories currently installed.)\n",
            "Preparing to unpack .../0-libarchive-dev_3.6.0-1ubuntu1.1_amd64.deb ...\n",
            "Unpacking libarchive-dev:amd64 (3.6.0-1ubuntu1.1) ...\n",
            "Selecting previously unselected package libleptonica-dev.\n",
            "Preparing to unpack .../1-libleptonica-dev_1.82.0-3build1_amd64.deb ...\n",
            "Unpacking libleptonica-dev (1.82.0-3build1) ...\n",
            "Selecting previously unselected package libtesseract-dev:amd64.\n",
            "Preparing to unpack .../2-libtesseract-dev_4.1.1-2.1build1_amd64.deb ...\n",
            "Unpacking libtesseract-dev:amd64 (4.1.1-2.1build1) ...\n",
            "Selecting previously unselected package tesseract-ocr-eng.\n",
            "Preparing to unpack .../3-tesseract-ocr-eng_1%3a4.00~git30-7274cfa-1.1_all.deb ...\n",
            "Unpacking tesseract-ocr-eng (1:4.00~git30-7274cfa-1.1) ...\n",
            "Selecting previously unselected package tesseract-ocr-osd.\n",
            "Preparing to unpack .../4-tesseract-ocr-osd_1%3a4.00~git30-7274cfa-1.1_all.deb ...\n",
            "Unpacking tesseract-ocr-osd (1:4.00~git30-7274cfa-1.1) ...\n",
            "Selecting previously unselected package tesseract-ocr.\n",
            "Preparing to unpack .../5-tesseract-ocr_4.1.1-2.1build1_amd64.deb ...\n",
            "Unpacking tesseract-ocr (4.1.1-2.1build1) ...\n",
            "Setting up tesseract-ocr-eng (1:4.00~git30-7274cfa-1.1) ...\n",
            "Setting up libleptonica-dev (1.82.0-3build1) ...\n",
            "Setting up libarchive-dev:amd64 (3.6.0-1ubuntu1.1) ...\n",
            "Setting up tesseract-ocr-osd (1:4.00~git30-7274cfa-1.1) ...\n",
            "Setting up libtesseract-dev:amd64 (4.1.1-2.1build1) ...\n",
            "Setting up tesseract-ocr (4.1.1-2.1build1) ...\n",
            "Processing triggers for man-db (2.10.2-1) ...\n",
            "debconf: unable to initialize frontend: Dialog\n",
            "debconf: (No usable dialog-like program is installed, so the dialog based frontend cannot be used. at /usr/share/perl5/Debconf/FrontEnd/Dialog.pm line 78, <> line 29.)\n",
            "debconf: falling back to frontend: Readline\n",
            "debconf: unable to initialize frontend: Readline\n",
            "debconf: (This frontend requires a controlling tty.)\n",
            "debconf: falling back to frontend: Teletype\n",
            "dpkg-preconfigure: unable to re-open stdin: \n",
            "Selecting previously unselected package fonts-droid-fallback.\n",
            "(Reading database ... 123774 files and directories currently installed.)\n",
            "Preparing to unpack .../00-fonts-droid-fallback_1%3a6.0.1r16-1.1build1_all.deb ...\n",
            "Unpacking fonts-droid-fallback (1:6.0.1r16-1.1build1) ...\n",
            "Selecting previously unselected package poppler-data.\n",
            "Preparing to unpack .../01-poppler-data_0.4.11-1_all.deb ...\n",
            "Unpacking poppler-data (0.4.11-1) ...\n",
            "Selecting previously unselected package antiword.\n",
            "Preparing to unpack .../02-antiword_0.37-16_amd64.deb ...\n",
            "Unpacking antiword (0.37-16) ...\n",
            "Selecting previously unselected package flac.\n",
            "Preparing to unpack .../03-flac_1.3.3-2ubuntu0.2_amd64.deb ...\n",
            "Unpacking flac (1.3.3-2ubuntu0.2) ...\n",
            "Selecting previously unselected package fonts-noto-mono.\n",
            "Preparing to unpack .../04-fonts-noto-mono_20201225-1build1_all.deb ...\n",
            "Unpacking fonts-noto-mono (20201225-1build1) ...\n",
            "Selecting previously unselected package fonts-urw-base35.\n",
            "Preparing to unpack .../05-fonts-urw-base35_20200910-1_all.deb ...\n",
            "Unpacking fonts-urw-base35 (20200910-1) ...\n",
            "Selecting previously unselected package libgs9-common.\n",
            "Preparing to unpack .../06-libgs9-common_9.55.0~dfsg1-0ubuntu5.9_all.deb ...\n",
            "Unpacking libgs9-common (9.55.0~dfsg1-0ubuntu5.9) ...\n",
            "Selecting previously unselected package libidn12:amd64.\n",
            "Preparing to unpack .../07-libidn12_1.38-4ubuntu1_amd64.deb ...\n",
            "Unpacking libidn12:amd64 (1.38-4ubuntu1) ...\n",
            "Selecting previously unselected package libijs-0.35:amd64.\n",
            "Preparing to unpack .../08-libijs-0.35_0.35-15build2_amd64.deb ...\n",
            "Unpacking libijs-0.35:amd64 (0.35-15build2) ...\n",
            "Selecting previously unselected package libjbig2dec0:amd64.\n",
            "Preparing to unpack .../09-libjbig2dec0_0.19-3build2_amd64.deb ...\n",
            "Unpacking libjbig2dec0:amd64 (0.19-3build2) ...\n",
            "Selecting previously unselected package libgs9:amd64.\n",
            "Preparing to unpack .../10-libgs9_9.55.0~dfsg1-0ubuntu5.9_amd64.deb ...\n",
            "Unpacking libgs9:amd64 (9.55.0~dfsg1-0ubuntu5.9) ...\n",
            "Selecting previously unselected package ghostscript.\n",
            "Preparing to unpack .../11-ghostscript_9.55.0~dfsg1-0ubuntu5.9_amd64.deb ...\n",
            "Unpacking ghostscript (9.55.0~dfsg1-0ubuntu5.9) ...\n",
            "Selecting previously unselected package lame.\n",
            "Preparing to unpack .../12-lame_3.100-3build2_amd64.deb ...\n",
            "Unpacking lame (3.100-3build2) ...\n",
            "Selecting previously unselected package libid3tag0:amd64.\n",
            "Preparing to unpack .../13-libid3tag0_0.15.1b-14_amd64.deb ...\n",
            "Unpacking libid3tag0:amd64 (0.15.1b-14) ...\n",
            "Selecting previously unselected package libmad0:amd64.\n",
            "Preparing to unpack .../14-libmad0_0.15.1b-10ubuntu1_amd64.deb ...\n",
            "Unpacking libmad0:amd64 (0.15.1b-10ubuntu1) ...\n",
            "Selecting previously unselected package libopencore-amrnb0:amd64.\n",
            "Preparing to unpack .../15-libopencore-amrnb0_0.1.5-1_amd64.deb ...\n",
            "Unpacking libopencore-amrnb0:amd64 (0.1.5-1) ...\n",
            "Selecting previously unselected package libopencore-amrwb0:amd64.\n",
            "Preparing to unpack .../16-libopencore-amrwb0_0.1.5-1_amd64.deb ...\n",
            "Unpacking libopencore-amrwb0:amd64 (0.1.5-1) ...\n",
            "Selecting previously unselected package libsox3:amd64.\n",
            "Preparing to unpack .../17-libsox3_14.4.2+git20190427-2+deb11u2ubuntu0.22.04.1_amd64.deb ...\n",
            "Unpacking libsox3:amd64 (14.4.2+git20190427-2+deb11u2ubuntu0.22.04.1) ...\n",
            "Selecting previously unselected package libsox-fmt-alsa:amd64.\n",
            "Preparing to unpack .../18-libsox-fmt-alsa_14.4.2+git20190427-2+deb11u2ubuntu0.22.04.1_amd64.deb ...\n",
            "Unpacking libsox-fmt-alsa:amd64 (14.4.2+git20190427-2+deb11u2ubuntu0.22.04.1) ...\n",
            "Selecting previously unselected package libwavpack1:amd64.\n",
            "Preparing to unpack .../19-libwavpack1_5.4.0-1build2_amd64.deb ...\n",
            "Unpacking libwavpack1:amd64 (5.4.0-1build2) ...\n",
            "Selecting previously unselected package libsox-fmt-base:amd64.\n",
            "Preparing to unpack .../20-libsox-fmt-base_14.4.2+git20190427-2+deb11u2ubuntu0.22.04.1_amd64.deb ...\n",
            "Unpacking libsox-fmt-base:amd64 (14.4.2+git20190427-2+deb11u2ubuntu0.22.04.1) ...\n",
            "Selecting previously unselected package libsox-fmt-mp3:amd64.\n",
            "Preparing to unpack .../21-libsox-fmt-mp3_14.4.2+git20190427-2+deb11u2ubuntu0.22.04.1_amd64.deb ...\n",
            "Unpacking libsox-fmt-mp3:amd64 (14.4.2+git20190427-2+deb11u2ubuntu0.22.04.1) ...\n",
            "Selecting previously unselected package libxslt1-dev:amd64.\n",
            "Preparing to unpack .../22-libxslt1-dev_1.1.34-4ubuntu0.22.04.1_amd64.deb ...\n",
            "Unpacking libxslt1-dev:amd64 (1.1.34-4ubuntu0.22.04.1) ...\n",
            "Selecting previously unselected package poppler-utils.\n",
            "Preparing to unpack .../23-poppler-utils_22.02.0-2ubuntu0.5_amd64.deb ...\n",
            "Unpacking poppler-utils (22.02.0-2ubuntu0.5) ...\n",
            "Selecting previously unselected package pstotext.\n",
            "Preparing to unpack .../24-pstotext_1.9-6build1_amd64.deb ...\n",
            "Unpacking pstotext (1.9-6build1) ...\n",
            "Selecting previously unselected package sox.\n",
            "Preparing to unpack .../25-sox_14.4.2+git20190427-2+deb11u2ubuntu0.22.04.1_amd64.deb ...\n",
            "Unpacking sox (14.4.2+git20190427-2+deb11u2ubuntu0.22.04.1) ...\n",
            "Selecting previously unselected package swig4.0.\n",
            "Preparing to unpack .../26-swig4.0_4.0.2-1ubuntu1_amd64.deb ...\n",
            "Unpacking swig4.0 (4.0.2-1ubuntu1) ...\n",
            "Selecting previously unselected package swig.\n",
            "Preparing to unpack .../27-swig_4.0.2-1ubuntu1_all.deb ...\n",
            "Unpacking swig (4.0.2-1ubuntu1) ...\n",
            "Selecting previously unselected package unrtf.\n",
            "Preparing to unpack .../28-unrtf_0.21.10-clean-1_amd64.deb ...\n",
            "Unpacking unrtf (0.21.10-clean-1) ...\n",
            "Setting up unrtf (0.21.10-clean-1) ...\n",
            "Setting up libxslt1-dev:amd64 (1.1.34-4ubuntu0.22.04.1) ...\n",
            "Setting up fonts-noto-mono (20201225-1build1) ...\n",
            "Setting up libsox3:amd64 (14.4.2+git20190427-2+deb11u2ubuntu0.22.04.1) ...\n",
            "Setting up libijs-0.35:amd64 (0.35-15build2) ...\n",
            "Setting up fonts-urw-base35 (20200910-1) ...\n",
            "Setting up lame (3.100-3build2) ...\n",
            "Setting up poppler-data (0.4.11-1) ...\n",
            "Setting up libid3tag0:amd64 (0.15.1b-14) ...\n",
            "Setting up libopencore-amrwb0:amd64 (0.1.5-1) ...\n",
            "Setting up flac (1.3.3-2ubuntu0.2) ...\n",
            "Setting up libjbig2dec0:amd64 (0.19-3build2) ...\n",
            "Setting up libidn12:amd64 (1.38-4ubuntu1) ...\n",
            "Setting up libsox-fmt-alsa:amd64 (14.4.2+git20190427-2+deb11u2ubuntu0.22.04.1) ...\n",
            "Setting up libmad0:amd64 (0.15.1b-10ubuntu1) ...\n",
            "Setting up libwavpack1:amd64 (5.4.0-1build2) ...\n",
            "Setting up libopencore-amrnb0:amd64 (0.1.5-1) ...\n",
            "Setting up antiword (0.37-16) ...\n",
            "Setting up libsox-fmt-base:amd64 (14.4.2+git20190427-2+deb11u2ubuntu0.22.04.1) ...\n",
            "Setting up fonts-droid-fallback (1:6.0.1r16-1.1build1) ...\n",
            "Setting up poppler-utils (22.02.0-2ubuntu0.5) ...\n",
            "Setting up swig4.0 (4.0.2-1ubuntu1) ...\n",
            "Setting up libsox-fmt-mp3:amd64 (14.4.2+git20190427-2+deb11u2ubuntu0.22.04.1) ...\n",
            "Setting up libgs9-common (9.55.0~dfsg1-0ubuntu5.9) ...\n",
            "Setting up swig (4.0.2-1ubuntu1) ...\n",
            "Setting up libgs9:amd64 (9.55.0~dfsg1-0ubuntu5.9) ...\n",
            "Setting up ghostscript (9.55.0~dfsg1-0ubuntu5.9) ...\n",
            "Setting up sox (14.4.2+git20190427-2+deb11u2ubuntu0.22.04.1) ...\n",
            "Setting up pstotext (1.9-6build1) ...\n",
            "Processing triggers for libc-bin (2.35-0ubuntu3.4) ...\n",
            "/sbin/ldconfig.real: /usr/local/lib/libur_adapter_opencl.so.0 is not a symbolic link\n",
            "\n",
            "/sbin/ldconfig.real: /usr/local/lib/libur_adapter_level_zero.so.0 is not a symbolic link\n",
            "\n",
            "/sbin/ldconfig.real: /usr/local/lib/libtbbmalloc_proxy.so.2 is not a symbolic link\n",
            "\n",
            "/sbin/ldconfig.real: /usr/local/lib/libtbbbind.so.3 is not a symbolic link\n",
            "\n",
            "/sbin/ldconfig.real: /usr/local/lib/libtbbbind_2_5.so.3 is not a symbolic link\n",
            "\n",
            "/sbin/ldconfig.real: /usr/local/lib/libtbbmalloc.so.2 is not a symbolic link\n",
            "\n",
            "/sbin/ldconfig.real: /usr/local/lib/libtbbbind_2_0.so.3 is not a symbolic link\n",
            "\n",
            "/sbin/ldconfig.real: /usr/local/lib/libtbb.so.12 is not a symbolic link\n",
            "\n",
            "/sbin/ldconfig.real: /usr/local/lib/libur_loader.so.0 is not a symbolic link\n",
            "\n",
            "Processing triggers for man-db (2.10.2-1) ...\n",
            "Processing triggers for fontconfig (2.13.1-4.2ubuntu5) ...\n",
            "Collecting langchain\n",
            "  Downloading langchain-0.2.13-py3-none-any.whl.metadata (7.1 kB)\n",
            "Collecting langchain-community\n",
            "  Downloading langchain_community-0.2.12-py3-none-any.whl.metadata (2.7 kB)\n",
            "Requirement already satisfied: PyYAML>=5.3 in /usr/local/lib/python3.10/dist-packages (from langchain) (6.0.2)\n",
            "Requirement already satisfied: SQLAlchemy<3,>=1.4 in /usr/local/lib/python3.10/dist-packages (from langchain) (2.0.32)\n",
            "Requirement already satisfied: aiohttp<4.0.0,>=3.8.3 in /usr/local/lib/python3.10/dist-packages (from langchain) (3.10.1)\n",
            "Requirement already satisfied: async-timeout<5.0.0,>=4.0.0 in /usr/local/lib/python3.10/dist-packages (from langchain) (4.0.3)\n",
            "Collecting langchain-core<0.3.0,>=0.2.30 (from langchain)\n",
            "  Downloading langchain_core-0.2.30-py3-none-any.whl.metadata (6.2 kB)\n",
            "Collecting langchain-text-splitters<0.3.0,>=0.2.0 (from langchain)\n",
            "  Downloading langchain_text_splitters-0.2.2-py3-none-any.whl.metadata (2.1 kB)\n",
            "Collecting langsmith<0.2.0,>=0.1.17 (from langchain)\n",
            "  Downloading langsmith-0.1.99-py3-none-any.whl.metadata (13 kB)\n",
            "Requirement already satisfied: numpy<2,>=1 in /usr/local/lib/python3.10/dist-packages (from langchain) (1.26.4)\n",
            "Requirement already satisfied: pydantic<3,>=1 in /usr/local/lib/python3.10/dist-packages (from langchain) (2.8.2)\n",
            "Requirement already satisfied: requests<3,>=2 in /usr/local/lib/python3.10/dist-packages (from langchain) (2.32.3)\n",
            "Collecting tenacity!=8.4.0,<9.0.0,>=8.1.0 (from langchain)\n",
            "  Downloading tenacity-8.5.0-py3-none-any.whl.metadata (1.2 kB)\n",
            "Collecting dataclasses-json<0.7,>=0.5.7 (from langchain-community)\n",
            "  Downloading dataclasses_json-0.6.7-py3-none-any.whl.metadata (25 kB)\n",
            "Requirement already satisfied: aiohappyeyeballs>=2.3.0 in /usr/local/lib/python3.10/dist-packages (from aiohttp<4.0.0,>=3.8.3->langchain) (2.3.4)\n",
            "Requirement already satisfied: aiosignal>=1.1.2 in /usr/local/lib/python3.10/dist-packages (from aiohttp<4.0.0,>=3.8.3->langchain) (1.3.1)\n",
            "Requirement already satisfied: attrs>=17.3.0 in /usr/local/lib/python3.10/dist-packages (from aiohttp<4.0.0,>=3.8.3->langchain) (24.2.0)\n",
            "Requirement already satisfied: frozenlist>=1.1.1 in /usr/local/lib/python3.10/dist-packages (from aiohttp<4.0.0,>=3.8.3->langchain) (1.4.1)\n",
            "Requirement already satisfied: multidict<7.0,>=4.5 in /usr/local/lib/python3.10/dist-packages (from aiohttp<4.0.0,>=3.8.3->langchain) (6.0.5)\n",
            "Requirement already satisfied: yarl<2.0,>=1.0 in /usr/local/lib/python3.10/dist-packages (from aiohttp<4.0.0,>=3.8.3->langchain) (1.9.4)\n",
            "Collecting marshmallow<4.0.0,>=3.18.0 (from dataclasses-json<0.7,>=0.5.7->langchain-community)\n",
            "  Downloading marshmallow-3.21.3-py3-none-any.whl.metadata (7.1 kB)\n",
            "Collecting typing-inspect<1,>=0.4.0 (from dataclasses-json<0.7,>=0.5.7->langchain-community)\n",
            "  Downloading typing_inspect-0.9.0-py3-none-any.whl.metadata (1.5 kB)\n",
            "Collecting jsonpatch<2.0,>=1.33 (from langchain-core<0.3.0,>=0.2.30->langchain)\n",
            "  Downloading jsonpatch-1.33-py2.py3-none-any.whl.metadata (3.0 kB)\n",
            "Requirement already satisfied: packaging<25,>=23.2 in /usr/local/lib/python3.10/dist-packages (from langchain-core<0.3.0,>=0.2.30->langchain) (24.1)\n",
            "Requirement already satisfied: typing-extensions>=4.7 in /usr/local/lib/python3.10/dist-packages (from langchain-core<0.3.0,>=0.2.30->langchain) (4.12.2)\n",
            "Collecting orjson<4.0.0,>=3.9.14 (from langsmith<0.2.0,>=0.1.17->langchain)\n",
            "  Downloading orjson-3.10.7-cp310-cp310-manylinux_2_17_x86_64.manylinux2014_x86_64.whl.metadata (50 kB)\n",
            "\u001b[2K     \u001b[90m━━━━━━━━━━━━━━━━━━━━━━━━━━━━━━━━━━━━━━━━\u001b[0m \u001b[32m50.4/50.4 kB\u001b[0m \u001b[31m2.3 MB/s\u001b[0m eta \u001b[36m0:00:00\u001b[0m\n",
            "\u001b[?25hRequirement already satisfied: annotated-types>=0.4.0 in /usr/local/lib/python3.10/dist-packages (from pydantic<3,>=1->langchain) (0.7.0)\n",
            "Requirement already satisfied: pydantic-core==2.20.1 in /usr/local/lib/python3.10/dist-packages (from pydantic<3,>=1->langchain) (2.20.1)\n",
            "Requirement already satisfied: charset-normalizer<4,>=2 in /usr/local/lib/python3.10/dist-packages (from requests<3,>=2->langchain) (3.3.2)\n",
            "Requirement already satisfied: idna<4,>=2.5 in /usr/local/lib/python3.10/dist-packages (from requests<3,>=2->langchain) (3.7)\n",
            "Requirement already satisfied: urllib3<3,>=1.21.1 in /usr/local/lib/python3.10/dist-packages (from requests<3,>=2->langchain) (2.0.7)\n",
            "Requirement already satisfied: certifi>=2017.4.17 in /usr/local/lib/python3.10/dist-packages (from requests<3,>=2->langchain) (2024.7.4)\n",
            "Requirement already satisfied: greenlet!=0.4.17 in /usr/local/lib/python3.10/dist-packages (from SQLAlchemy<3,>=1.4->langchain) (3.0.3)\n",
            "Collecting jsonpointer>=1.9 (from jsonpatch<2.0,>=1.33->langchain-core<0.3.0,>=0.2.30->langchain)\n",
            "  Downloading jsonpointer-3.0.0-py2.py3-none-any.whl.metadata (2.3 kB)\n",
            "Collecting mypy-extensions>=0.3.0 (from typing-inspect<1,>=0.4.0->dataclasses-json<0.7,>=0.5.7->langchain-community)\n",
            "  Downloading mypy_extensions-1.0.0-py3-none-any.whl.metadata (1.1 kB)\n",
            "Downloading langchain-0.2.13-py3-none-any.whl (997 kB)\n",
            "\u001b[2K   \u001b[90m━━━━━━━━━━━━━━━━━━━━━━━━━━━━━━━━━━━━━━━━\u001b[0m \u001b[32m997.8/997.8 kB\u001b[0m \u001b[31m7.6 MB/s\u001b[0m eta \u001b[36m0:00:00\u001b[0m\n",
            "\u001b[?25hDownloading langchain_community-0.2.12-py3-none-any.whl (2.3 MB)\n",
            "\u001b[2K   \u001b[90m━━━━━━━━━━━━━━━━━━━━━━━━━━━━━━━━━━━━━━━━\u001b[0m \u001b[32m2.3/2.3 MB\u001b[0m \u001b[31m36.1 MB/s\u001b[0m eta \u001b[36m0:00:00\u001b[0m\n",
            "\u001b[?25hDownloading dataclasses_json-0.6.7-py3-none-any.whl (28 kB)\n",
            "Downloading langchain_core-0.2.30-py3-none-any.whl (384 kB)\n",
            "\u001b[2K   \u001b[90m━━━━━━━━━━━━━━━━━━━━━━━━━━━━━━━━━━━━━━━━\u001b[0m \u001b[32m384.8/384.8 kB\u001b[0m \u001b[31m21.0 MB/s\u001b[0m eta \u001b[36m0:00:00\u001b[0m\n",
            "\u001b[?25hDownloading langchain_text_splitters-0.2.2-py3-none-any.whl (25 kB)\n",
            "Downloading langsmith-0.1.99-py3-none-any.whl (140 kB)\n",
            "\u001b[2K   \u001b[90m━━━━━━━━━━━━━━━━━━━━━━━━━━━━━━━━━━━━━━━━\u001b[0m \u001b[32m140.4/140.4 kB\u001b[0m \u001b[31m7.6 MB/s\u001b[0m eta \u001b[36m0:00:00\u001b[0m\n",
            "\u001b[?25hDownloading tenacity-8.5.0-py3-none-any.whl (28 kB)\n",
            "Downloading jsonpatch-1.33-py2.py3-none-any.whl (12 kB)\n",
            "Downloading marshmallow-3.21.3-py3-none-any.whl (49 kB)\n",
            "\u001b[2K   \u001b[90m━━━━━━━━━━━━━━━━━━━━━━━━━━━━━━━━━━━━━━━━\u001b[0m \u001b[32m49.2/49.2 kB\u001b[0m \u001b[31m3.3 MB/s\u001b[0m eta \u001b[36m0:00:00\u001b[0m\n",
            "\u001b[?25hDownloading orjson-3.10.7-cp310-cp310-manylinux_2_17_x86_64.manylinux2014_x86_64.whl (141 kB)\n",
            "\u001b[2K   \u001b[90m━━━━━━━━━━━━━━━━━━━━━━━━━━━━━━━━━━━━━━━━\u001b[0m \u001b[32m141.9/141.9 kB\u001b[0m \u001b[31m9.8 MB/s\u001b[0m eta \u001b[36m0:00:00\u001b[0m\n",
            "\u001b[?25hDownloading typing_inspect-0.9.0-py3-none-any.whl (8.8 kB)\n",
            "Downloading jsonpointer-3.0.0-py2.py3-none-any.whl (7.6 kB)\n",
            "Downloading mypy_extensions-1.0.0-py3-none-any.whl (4.7 kB)\n",
            "Installing collected packages: tenacity, orjson, mypy-extensions, marshmallow, jsonpointer, typing-inspect, jsonpatch, langsmith, dataclasses-json, langchain-core, langchain-text-splitters, langchain, langchain-community\n",
            "  Attempting uninstall: tenacity\n",
            "    Found existing installation: tenacity 9.0.0\n",
            "    Uninstalling tenacity-9.0.0:\n",
            "      Successfully uninstalled tenacity-9.0.0\n",
            "Successfully installed dataclasses-json-0.6.7 jsonpatch-1.33 jsonpointer-3.0.0 langchain-0.2.13 langchain-community-0.2.12 langchain-core-0.2.30 langchain-text-splitters-0.2.2 langsmith-0.1.99 marshmallow-3.21.3 mypy-extensions-1.0.0 orjson-3.10.7 tenacity-8.5.0 typing-inspect-0.9.0\n"
          ]
        }
      ],
      "source": [
        "!sudo apt -y -qq install tesseract-ocr libtesseract-dev\n",
        "\n",
        "!sudo apt-get -y -qq install poppler-utils libxml2-dev libxslt1-dev antiword unrtf tesseract-ocr pstotext flac ffmpeg lame libmad0 libsox-fmt-mp3 sox libjpeg-dev swig\n",
        "\n",
        "!pip install langchain langchain-community"
      ]
    },
    {
      "cell_type": "code",
      "source": [
        "import urllib\n",
        "import warnings\n",
        "from pathlib import Path as p\n",
        "from pprint import pprint"
      ],
      "metadata": {
        "id": "_4Q9wbWug15i"
      },
      "execution_count": 7,
      "outputs": []
    },
    {
      "cell_type": "code",
      "source": [
        "import pandas as pd\n",
        "from langchain import PromptTemplate\n",
        "from langchain.chains.question_answering import load_qa_chain\n",
        "from langchain.document_loaders import PyPDFLoader\n",
        "from langchain.text_splitter import RecursiveCharacterTextSplitter\n",
        "from langchain.vectorstores import Chroma\n",
        "from langchain.chains import RetrievalQA"
      ],
      "metadata": {
        "id": "S_p_ekY-g3OV"
      },
      "execution_count": 8,
      "outputs": []
    },
    {
      "cell_type": "code",
      "source": [
        "warnings.filterwarnings(\"ignore\")\n",
        "# restart python kernal if issues with langchain import."
      ],
      "metadata": {
        "id": "5_JlhATPhU_v"
      },
      "execution_count": 9,
      "outputs": []
    },
    {
      "cell_type": "code",
      "source": [
        "model = ChatGoogleGenerativeAI(model = \"gemini-1.5-flash\", google_api_key = GOOGLE_API_KEY, temperature = 0.2, convert_system_message_to_human = True )"
      ],
      "metadata": {
        "id": "4m6GU5xwhjsA"
      },
      "execution_count": 11,
      "outputs": []
    },
    {
      "cell_type": "markdown",
      "source": [
        "# PDF -- TEXT EXTRACTION"
      ],
      "metadata": {
        "id": "1s_cg06ghxLn"
      }
    },
    {
      "cell_type": "code",
      "source": [
        "pdf_loader = PyPDFLoader(\"/content/NP_LAB_SLIDES.pdf\")\n",
        "pages = pdf_loader.load_and_split()\n",
        "print(pages[3].page_content)\n",
        "len(pages)"
      ],
      "metadata": {
        "colab": {
          "base_uri": "https://localhost:8080/"
        },
        "id": "bvVffEDFh0a4",
        "outputId": "b4721500-6b1a-4fb8-ff5f-d22ef7bc95a8"
      },
      "execution_count": 12,
      "outputs": [
        {
          "output_type": "stream",
          "name": "stdout",
          "text": [
            "TCP/IP\n",
            "* image is taken from “http://en.wikipedia.org/wiki/TCP/IP_model”*\n",
            "Communication \n",
            "ChannelsNetwork Layer \n",
            "IPTransport Layer \n",
            "TCP or UDP\n",
            "FTP, SMTP, …\n",
            "CS556 - Distributed Systems Tutori al by Eleftherios Kosmas 4\n"
          ]
        },
        {
          "output_type": "execute_result",
          "data": {
            "text/plain": [
              "100"
            ]
          },
          "metadata": {},
          "execution_count": 12
        }
      ]
    },
    {
      "cell_type": "markdown",
      "source": [
        "# **RAG Pipeline: Embedding + Gemini (LLM)**"
      ],
      "metadata": {
        "id": "1dhE0vPWiI3j"
      }
    },
    {
      "cell_type": "code",
      "source": [
        "from langchain_google_genai import GoogleGenerativeAIEmbeddings\n",
        "from langchain.llms import GooglePalm\n",
        "from langchain.chains.question_answering import load_qa_chain\n"
      ],
      "metadata": {
        "id": "psr3gJmViMPf"
      },
      "execution_count": 13,
      "outputs": []
    },
    {
      "cell_type": "code",
      "source": [
        "text_splitter = RecursiveCharacterTextSplitter(chunk_size=10000, chunk_overlap=1000)\n",
        "context = \"\\n\\n\".join(str(p.page_content) for p in pages)\n",
        "texts = text_splitter.split_text(context)\n",
        "\n",
        "embeddings = GoogleGenerativeAIEmbeddings(model=\"models/embedding-001\",google_api_key=GOOGLE_API_KEY)\n",
        "llm2 = GooglePalm(temperature=0, google_api_key = GOOGLE_API_KEY)\n",
        "vector_index = Chroma.from_texts(texts, embeddings).as_retriever(search_kwargs={\"k\":5})\n",
        "\n",
        "qa_chain = RetrievalQA.from_chain_type(\n",
        "    llm=llm2, # Pass the Google PaLM LLM instance\n",
        "    chain_type=\"stuff\", # Use a suitable chain type, 'stuff' is just an example\n",
        "    retriever=vector_index,\n",
        "    return_source_documents=True\n",
        ")\n",
        "question = \"Explain the types of sockets?\"\n",
        "result = qa_chain({\"query\": question})\n",
        "result[\"result\"]\n",
        "\n",
        "\n",
        "\n",
        "result[\"source_documents\"]"
      ],
      "metadata": {
        "colab": {
          "base_uri": "https://localhost:8080/",
          "height": 1000
        },
        "id": "XsxPnvXQiOYP",
        "outputId": "464bc203-6ddc-4747-8bc5-6cbc9e925065"
      },
      "execution_count": 15,
      "outputs": [
        {
          "output_type": "execute_result",
          "data": {
            "text/plain": [
              "[Document(page_content='Introduction to \\nSockets Programming in C \\nusing TCP/IP\\nProfessor: Panagiota Fatourou\\nTA: Eleftherios Kosmas\\nCSD - May 2012\\n\\nIntroduction\\nCS556 - Distributed Systems Tutori al by Eleftherios Kosmas 2\\x84Computer Network\\n\\x89hosts, routers, \\ncommunication channels\\n\\x84Hosts run applications\\n\\x84Routers forward information\\n\\x84Packets : sequence of bytes\\n\\x89contain control information\\n\\x89e.g. destination host\\n\\x84Protocol is an agreement\\n\\x89meaning of packets\\n\\x89structure and size of packets\\ne.g. Hypertext Transfer Protocol \\n(HTTP)\\nHost\\nRouter\\nCommunication \\nchannel\\n\\nProtocol Families - TCP/IP\\nCS556 - Distributed Systems Tutori al by Eleftherios Kosmas 3\\x84Several protocols for different problems\\n)Protocol Suites or Protocol Families: TCP/IP\\n\\x84TCP/IP provides end-to-end connectivity specifying how data \\nshould be \\n\\x89formatted, \\n\\x89addressed, \\n\\x89transmitted, \\n\\x89routed, and \\n\\x89received at the destination\\n\\x84can be used in the internet a nd in stand-alone private networks\\n\\x84it is organized into layers\\n\\nTCP/IP\\n* image is taken from “http://en.wikipedia.org/wiki/TCP/IP_model”*\\nCommunication \\nChannelsNetwork Layer \\nIPTransport Layer \\nTCP or UDP\\nFTP, SMTP, …\\nCS556 - Distributed Systems Tutori al by Eleftherios Kosmas 4\\n\\nInternet Protocol (IP)\\n\\x84provides a datagram service\\n\\x89packets are handled and delivered \\nindependently\\n\\x84best-effort protocol\\n\\x89may loose, reorder or duplicate packets\\n\\x84each packet must contain an IP \\naddress of its destination\\nCS556 - Distributed Systems Tutori al by Eleftherios Kosmas 5\\n\\nAddresses - IPv4\\n72 4\\nClass A: 0 Network ID Host ID\\n14 16\\nClass B: 1 0 Network ID Host ID\\n21 8\\nClass C: 1 1 0 Network ID Host ID\\n28\\nClass D (multicast): 1 1 1 0 Multicast address\\n27\\nClass E (reserved): 1 1 1 1 unused 01.0.0.0 to \\n127.255.255.255\\n128.0.0 .0 to \\n191.255.255.255\\n192.0.0 .0 to \\n223.255.255.255\\n224.0.0 .0 to \\n239.255.255.255\\n240.0.0 .0 to \\n255.255.255.255Range of add resses\\x84The 32bits of an IPv4 address are broken into 4 octets , or 8 bit fields \\n(0-255 value in decimal notation).\\n\\x84For networks of different size,\\n\\x89the first one (for large networks) to three (for small networks) octets can \\nbe use d to identify the network , while \\n\\x89the rest of the octets can be used to identify the node on the network.\\nCS556 - Distributed Systems Tutori al by Eleftherios Kosmas 6\\n\\nLocal Area Network Addresses - IPv4\\nCS556 - Distributed Systems Tutori al by Eleftherios Kosmas 7\\n\\nTCP vs UDP\\n\\x84Both use port numbers\\n\\x89application-specific construct se rving as a communication endpoint\\n\\x8916-bit unsigned integer, thus ranging from 0 to 65535\\n)to provide end-to-end transport\\n\\x84UDP: User Datagram Protocol\\n\\x89no acknowledgements\\n\\x89no retransmissions\\n\\x89out of order, duplicates possible\\n\\x89connectionless, i.e., app indicates destination for each packet\\n\\x84TCP: Transmission Control Protocol\\n\\x89reliable byte-stream channel (in order, all arrive, no duplicates)\\n\\x84similar to file I/O\\n\\x89flow control\\n\\x89connection-oriented\\n\\x89bidirectional\\nCS556 - Distributed Systems Tutori al by Eleftherios Kosmas 8\\n\\nTCP vs UDP\\n\\x84TCP is used for services with a large data capacity, and a persistent \\nconnection\\n\\x84UDP is more commonly used for quick lookups, and single use \\nquery-reply actions.\\n\\x84Some common examples of TCP a nd UDP with their default ports:\\nDNS lookup UDP 53\\nFTP TCP 21\\nHTTP TCP 80\\nPOP3 TCP 110\\nTelnet TCP 23\\nCS556 - Distributed Systems Tutori al by Eleftherios Kosmas 9\\n\\nBerkley Sockets\\n\\x84Universally known as Sockets\\n\\x84It is an abstraction through which an \\napplication may send and receive data\\n\\x84Provide generic access to interprocess\\ncommunication services\\n\\x89e.g. IPX/SPX, Appletalk, TCP/IP\\n\\x84Standard API for networking\\nHostAppli cation\\nSocket\\nTCP\\nIP\\nHostAppli cation\\nSocket\\nTCP\\nIP\\nRouterIP Channel Channel\\nCS556 - Distributed Systems Tutori al by Eleftherios Kosmas 10\\n\\nSockets\\n\\x84Uniquely identified by\\n\\x89an internet address\\n\\x89an end-to-end protocol (e.g. TCP or UDP)\\n\\x89a port number\\n\\x84Two types of (TCP/IP) sockets\\n\\x89Stream sockets (e.g. uses TCP)\\n\\x84provide reliable byte-stream service\\n\\x89Datagram sockets (e.g. uses UDP)\\n\\x84provide best-effort datagram service\\n\\x84messages up to 65.500 bytes\\n\\x84Socket extend the convectional UNIX I/O facilities\\n\\x89file descriptors for network communication\\n\\x89extended the read and write system calls0\\n1\\n2internal data \\nstructure for file 1\\nFamily: PF _INET\\nService: SOCK_STREAM\\nLocal _IP:\\nRemote_IP:\\nRemote_Port:\\n…Local _Port: Descri ptor Table\\nCS556 - Distributed Systems Tutori al by Eleftherios Kosmas 11\\n\\nSockets\\nTCP UDP\\nIP1 2 6553 5 1 2 6553 5Applications\\nTCP sockets UDP socke ts\\nTCP ports UDP portsDescri ptor \\nreferences\\nSockets bound to ports\\nCS556 - Distributed Systems Tutori al by Eleftherios Kosmas 12\\n\\nSocket Programming\\nCS556 - Distributed Systems Tutori al by Eleftherios Kosmas 13\\n\\nClient-Server communication\\n\\x84Server \\n\\x89passively waits for and responds to clients\\n\\x89passive socket\\n\\x84Client\\n\\x89initiates the communication\\n\\x89must know the address and the port of the server\\n\\x89active socket\\nCS556 - Distributed Systems Tutori al by Eleftherios Kosmas 14\\n\\nSockets -P r o c e d u r e s\\nCS556 - Distributed Systems Tutori al by Eleftherios Kosmas 15\\n\\nClient - Server Communication -Unix\\nsocket()\\nbind()\\nlisten()\\naccept()\\nrecv()\\nsend()\\nclose()Server\\nsocket()\\nconnect()\\nsend()\\nrecv()\\nclose()Client\\nsynchro nizatio n \\npointStream \\n(e.g. TCP)\\nsocket()\\nbind()\\nrecvfrom()\\nsendto()\\nclose()Server\\nsocket()\\nsendto()\\nrecvfrom()\\nclose()ClientDatagram \\n(e.g. U DP)\\nbind()\\nCS556 - Distributed Systems Tutori al by Eleftherios Kosmas 16\\n\\nSocket creation in C: socket()\\n\\x84int sockid= socket( family, type, protocol );\\n\\x89sockid: socket descriptor, an integer (like a file-handle)\\n\\x89family : integer, communication domain, e.g.,\\n\\x84PF_INET, IPv4 protocols, Internet addresses (typically used)\\n\\x84PF_UNIX, Local communication, File addresses\\n\\x89type: communication type\\n\\x84SOCK_STREAM - reliable, 2-way, connection-based service\\n\\x84SOCK_DGRAM - unreliable, connectionl ess, messages of maximum length\\n\\x89protocol : specifies protocol \\n\\x84IPPROTO_TCP  IPPROTO_UDP\\n\\x84usually set to 0 (i.e., use default protocol)\\n\\x89upon failure returns -1\\n)NOTE: socket call does not specify where data will be coming from, \\nnor where it will be going to – it just creates the interface!\\nCS556 - Distributed Systems Tutori al by Eleftherios Kosmas 17\\n\\nClient - Server Communication -Unix\\nsocket()\\nbind()\\nlisten()\\naccept()\\nrecv()\\nsend()\\nclose()Server\\nsocket()\\nconnect()\\nsend()\\nrecv()\\nclose()Client\\nsynchro nizatio n \\npointStream \\n(e.g. TCP)\\nsocket()\\nbind()\\nrecvfrom()\\nsendto()\\nclose()Server\\nsocket()\\nsendto()\\nrecvfrom()\\nclose()ClientDatagram \\n(e.g. U DP)\\nbind()\\nCS556 - Distributed Systems Tutori al by Eleftherios Kosmas 18\\n\\nSocket close in C: close()\\n\\x84When finished using a socket, the socket should be closed\\n\\x84status= close( sockid);\\n\\x89sockid: the file descriptor (socket being closed)\\n\\x89status : 0 if successful, -1 if error\\n\\x84Closing a socket\\n\\x89closes a connection (for stream socket)\\n\\x89frees up the port used by the socket\\nCS556 - Distributed Systems Tutori al by Eleftherios Kosmas 19\\n\\nSpecifying Addresses\\n\\x84Socket API defines a generic data type for addresses:\\n\\x84Particular form of the sockaddr used for TCP/IP addresses:\\n)Important : sockaddr_in can be casted to a sockaddrstruct sockaddr {\\nunsigned short sa_family; /* Address family (e.g. AF_INET) */\\nchar sa_data[14];         /* Family-specific address information */\\n}\\nstruct in_addr {\\nunsigned long s_addr;        /* Internet address (32 bits) */\\n}\\nstruct sockaddr_in {\\nunsigned short sin_family;   /* Internet protocol (AF_INET) */\\nunsigned short sin_port;     /* Address port (16 bits) */\\nstruct in_addr sin_addr;   /* Internet address (32 bits) */\\nchar sin_zero[8];            /* Not used */\\n}\\nCS556 - Distributed Systems Tutori al by Eleftherios Kosmas 20\\n\\nClient - Server Communication -Unix\\nsocket()\\nbind()\\nlisten()\\naccept()\\nrecv()\\nsend()\\nclose()Server\\nsocket()\\nconnect()\\nsend()\\nrecv()\\nclose()Client\\nsynchro nizatio n \\npointStream \\n(e.g. TCP)\\nsocket()\\nbind()\\nrecvfrom()\\nsendto()\\nclose()Server\\nsocket()\\nsendto()\\nrecvfrom()\\nclose()ClientDatagram \\n(e.g. U DP)\\nbind()\\nCS556 - Distributed Systems Tutori al by Eleftherios Kosmas 21\\n\\nAssign address to socket: bind()\\n\\x84associates and reserves a port for use by the socket\\n\\x84int status = bind( sockid, &addrport , size);\\n\\x89sockid: integer, socket descriptor\\n\\x89addrport: struct sockaddr, the (IP) address and port of the machine\\n\\x84for TCP/IP server, internet address is usually set to INADDR_ANY, i.e., \\nchooses any incoming interface\\n\\x89size: the size (in bytes) of the addrport structure\\n\\x89status : upon failure -1 is returned\\nCS556 - Distributed Systems Tutori al by Eleftherios Kosmas 22\\n\\nbind()- Example with TCP\\nint sockid;\\nstruct sockaddr_in addrport ;\\nsockid= socket (PF_INET, SOCK_STREAM, 0);\\naddrport .sin_family = AF_INET;\\naddrport .sin_port = htons(5100);\\naddrport .sin_addr.s_addr = htonl(INADDR_ANY);\\nif(bind(sockid, (struct sockaddr *) & addrport , sizeof( addrport ))!= -1) { \\n…}\\nCS556 - Distributed Systems Tutori al by Eleftherios Kosmas 23\\n\\nSkipping the bind()\\n\\x84bind can be skipped for both types of sockets\\n\\x84Datagram socket:\\n\\x89if only sending, no need to bind.  Th e OS finds a port each time the socket \\nsends a packet\\n\\x89if receiving, need to bind\\n\\x84Stream socket:\\n\\x89destination determined during connection setup\\n\\x89don’t need to know port sending from  (during connection setup, receiving \\nend is informed of port)\\nCS556 - Distributed Systems Tutori al by Eleftherios Kosmas 24\\n\\nClient - Server Communication -Unix\\nsocket()\\nbind()\\nlisten()\\naccept()\\nrecv()\\nsend()\\nclose()Server\\nsocket()\\nconnect()\\nsend()\\nrecv()\\nclose()Client\\nsynchro nizatio n \\npointStream \\n(e.g. TCP)\\nsocket()\\nbind()\\nrecvfrom()\\nsendto()\\nclose()Server\\nsocket()\\nsendto()\\nrecvfrom()\\nclose()ClientDatagram \\n(e.g. U DP)\\nbind()\\nCS556 - Distributed Systems Tutori al by Eleftherios Kosmas 25'),\n",
              " Document(page_content=\"Multiple Recipients\\n\\x84So far, all sockets have dealt with unicastcommunication\\n\\x89i.e., an one-to-one communication, where one copy (“ uni”) of the data \\nis sent (“ cast”)\\n\\x84what if we want to send data to multiple recipients?\\n\\x841stSolution : unicast a copy of the data to each recipient\\n'inefficient, e.g., \\n\\x84consider we are connected to th e internet through a 3Mbps line\\n\\x84a video server sends 1-Mbps streams\\n\\x84then, server can support only three clients simultaneously\\n\\x842ndSolution : using network support\\n\\x89broadcast , all the hosts of the network receive the message\\n\\x89multicast , a message is sent to some subset of the host\\n)for IP: only UDP sockets are allowed to broadcast and multicast\\nCS556 - Distributed Systems Tutori al by Eleftherios Kosmas 92\\n\\nMultiple Recipients - Broadcast\\n\\x84Only the IP address changes\\n\\x84Local broadcast: to address 255.255.255.255\\n\\x89send the message to every host on the same broadcast network\\n\\x89not forwarded by the routers\\n\\x84Directed broadcast: \\n\\x89for network identifier 169.125 (i.e., with subnet mask 255.255.0.0 )\\n\\x89the directed broadcast address is 169.125.255.255\\n\\x84No network-wide broadcast address is available\\n\\x89why?\\n#In order to use broadcast the options of socket must change:\\nint broadcastPermission = 1;\\nsetsockopt(sock, SOL_SOCKET , SO_BROADCAST, (void*) \\n&broadcastPermission, sizeo f(broadcastPermission));\\nCS556 - Distributed Systems Tutori al by Eleftherios Kosmas 93\\n\\nMultiple Recipients -M u l t i c a s t\\n\\x84Using class D addresses\\n\\x89range from 224.0.0.0 to 239.255.255.255\\n\\x84hosts send multicast requests for specific addresses\\n\\x84a multicast group is formed\\n#we need to set TTL (time-to-live), to limit the number of hops\\n-u s i n g  sockopt()\\n#no need to change the options of socket\\nCS556 - Distributed Systems Tutori al by Eleftherios Kosmas 94\\n\\nUseful Functions\\n\\x84int atoi(const char *nptr);\\n\\x89converts the initial portion of  the string pointed to by nptr to int\\n\\x84int inet_aton (const char *cp, struct in_addr *inp);\\n\\x89converts the Internet host address cpfrom the IPv4 numbers-and-\\ndots notation into binary fo rm (in network byte order) \\n\\x89stores it in the structure that inp points to.  \\n\\x89it returns nonzero if the addr ess is valid, and 0 if not\\n\\x84char *inet_ntoa (struct in_addr in);\\n\\x89converts the Internet host address in, given in network byte order, to \\na string in IPv4 dotted-decimal notation\\ntypedef uint32_t in_addr_t;\\nstruct in_addr {\\nin_addr_t s_addr;\\n};\\nCS556 - Distributed Systems Tutori al by Eleftherios Kosmas 95\\n\\nUseful Functions\\n\\x84int getpeername (int sockfd, struct sockaddr *addr, \\nsocklen_t *addrlen);\\n\\x89returns the address (IP and port) of the peer connected to the socket \\nsockfd , in the buffer pointed to by addr\\n\\x890 is returned on success; -1 otherwise\\n\\x84int getsockname (int sockfd, struct sockaddr *addr, \\nsocklen_t *addrlen);\\n\\x89returns the current addres s to which the socket sockfd is bound, in the \\nbuffer pointed to by addr\\n\\x890 is returned on success; -1 otherwise\\nCS556 - Distributed Systems Tutori al by Eleftherios Kosmas 96\\n\\nDomain Name Service\\n\\x84struct hostent * gethostbyname (const char *name);\\n\\x89returns a structure of type hostent for the given host name  \\n\\x89name is a hostname, or an IPv4 addr ess in standard dot notation\\ne.g.   gethostbyname(“www.csd.uoc.gr”);\\n\\x84struct hostent * gethostbyaddr (const void *addr, \\nsocklen_t len, int type);\\n\\x89returns  a structure of type hostent f or the given host address addr of \\nlength len and address type type\\nstruct hostent {\\nchar  *h_name;       /* official name of host */\\nchar **h_aliases;    /* alias list (strings) */\\nint    h_addrtype;   /* host address type (AF_INET) */\\nint    h_length;     /* length of address */\\nchar **h_addr_list;  /* list of addresses (binary in network byte order) */\\n}\\n#define h_addr h_addr_list[0] /* for backward compatibility */\\nCS556 - Distributed Systems Tutori al by Eleftherios Kosmas 97\\n\\nDomain Name Service\\n\\x84struct servent * getservbyname (const char *name, \\nconst char *proto);\\n\\x89returns a servent structure for the entry from the database that \\nmatches the service name using protocol proto.   \\n\\x89if proto is NULL, any protocol will be matched.\\ne.g.   getservbyname(“echo”, “tcp”) ;\\n\\x84struct servent * getservbyport (int port, const char \\n*proto);\\n\\x89returns a servent structure for the entry from the database that \\nmatches the service name using port port\\nstruct servent {\\nchar  *s_name;       /* official service name */\\nchar **s_aliases;    /* list of alternate names (strings)*/\\nint    s_port;       /* service port number */\\nchar  *s_proto;      /* protocol to use (“tcp” or “udp”)*/\\n}\\nCS556 - Distributed Systems Tutori al by Eleftherios Kosmas 98\\n\\nCompiling and Executing\\n\\x84include the required header files\\n\\x84Example:\\nmilo:~/CS556/sockets> gcc -o TCPEch oServer TCPEchoServer.c DieWithError.c HandleTCPClient.c\\nmilo:~/CS556/sockets> gcc -o TCPEchoClient TCPEchoClient.c DieWithError.c\\nmilo:~/CS556/sockets> TCPEchoServer 3451 &\\n[1] 6273\\nmilo:~/CS556/sockets> TCPEc hoClient 0.0.0.0 hello! 3451\\nHandling client 127.0.0.1\\nReceived: hello!\\nmilo:~/CS556/sockets> ps\\nPID TTY          TIME CMD\\n5128 pts/9    00:00:00 tcsh\\n6273 pts/9    00:00:00 TCPEchoServer\\n6279 pts/9    00:00:00 ps\\nmilo:~/CS556/sockets> kill 6273\\nmilo:~/CS556/sockets>\\n[1]    Terminated                    TCPEchoServer 3451\\nmilo:~/CS556/sockets>\\nCS556 - Distributed Systems Tutori al by Eleftherios Kosmas 99\\n\\nThe End - Questions\\nCS556 - Distributed Systems Tutori al by Eleftherios Kosmas 100\"),\n",
              " Document(page_content='Skipping the bind()\\n\\x84bind can be skipped for both types of sockets\\n\\x84Datagram socket:\\n\\x89if only sending, no need to bind.  Th e OS finds a port each time the socket \\nsends a packet\\n\\x89if receiving, need to bind\\n\\x84Stream socket:\\n\\x89destination determined during connection setup\\n\\x89don’t need to know port sending from  (during connection setup, receiving \\nend is informed of port)\\nCS556 - Distributed Systems Tutori al by Eleftherios Kosmas 24\\n\\nClient - Server Communication -Unix\\nsocket()\\nbind()\\nlisten()\\naccept()\\nrecv()\\nsend()\\nclose()Server\\nsocket()\\nconnect()\\nsend()\\nrecv()\\nclose()Client\\nsynchro nizatio n \\npointStream \\n(e.g. TCP)\\nsocket()\\nbind()\\nrecvfrom()\\nsendto()\\nclose()Server\\nsocket()\\nsendto()\\nrecvfrom()\\nclose()ClientDatagram \\n(e.g. U DP)\\nbind()\\nCS556 - Distributed Systems Tutori al by Eleftherios Kosmas 25\\n\\nAssign address to socket: bind()\\n\\x84Instructs TCP protocol implementation to listen for connections\\n\\x84int status = listen( sockid, queueLimit);\\n\\x89sockid: integer, socket descriptor\\n\\x89queuelen : integer, # of active particip ants that can “wait” for a connection\\n\\x89status : 0 if listening, -1 if error \\n\\x84listen() is non-blocking : returns immediately\\n\\x84The listening socket (sockid)\\n\\x89is never used for sending and receiving\\n\\x89is used by the server only as a way to get new sockets\\nCS556 - Distributed Systems Tutori al by Eleftherios Kosmas 26\\n\\nClient - Server Communication -Unix\\nsocket()\\nbind()\\nlisten()\\naccept()\\nrecv()\\nsend()\\nclose()Server\\nsocket()\\nconnect()\\nsend()\\nrecv()\\nclose()Client\\nsynchro nizatio n \\npointStream \\n(e.g. TCP)\\nsocket()\\nbind()\\nrecvfrom()\\nsendto()\\nclose()Server\\nsocket()\\nsendto()\\nrecvfrom()\\nclose()ClientDatagram \\n(e.g. U DP)\\nbind()\\nCS556 - Distributed Systems Tutori al by Eleftherios Kosmas 27\\n\\nEstablish Connection: connect()\\n\\x84The client establishes a connection with the server by calling \\nconnect()\\n\\x84int status = connect( sockid, &foreignAddr , addrlen );\\n\\x89sockid: integer, socket to be used in connection\\n\\x89foreignAddr : struct sockaddr: address of the passive participant\\n\\x89addrlen : integer, sizeof(name)\\n\\x89status: 0 if successful connect, -1 otherwise\\n\\x84connect() is blocking\\nCS556 - Distributed Systems Tutori al by Eleftherios Kosmas 28\\n\\nIncoming Connection: accept()\\n\\x84The server gets a socket for an in coming client connection by calling \\naccept()\\n\\x84int s= accept(sockid, &clientAddr, & addrLen);\\n\\x89s: integer, the new socket (used for data-transfer)\\n\\x89sockid: integer, the orig. socket (being listened on)\\n\\x89clientAddr : struct sockaddr, address of the active participant\\n\\x84filled in upon return\\n\\x89addrLen : sizeof(clientAddr): value/result parameter\\n\\x84must be set appropriately before call\\n\\x84adjusted upon return\\n\\x84accept()\\n\\x89is blocking : waits for connection before returning \\n\\x89dequeues the next connection on the queue for socket (sockid)\\nCS556 - Distributed Systems Tutori al by Eleftherios Kosmas 29\\n\\nClient - Server Communication -Unix\\nsocket()\\nbind()\\nlisten()\\naccept()\\nrecv()\\nsend()\\nclose()Server\\nsocket()\\nconnect()\\nsend()\\nrecv()\\nclose()Client\\nsynchro nizatio n \\npointStream \\n(e.g. TCP)\\nsocket()\\nbind()\\nrecvfrom()\\nsendto()\\nclose()Server\\nsocket()\\nsendto()\\nrecvfrom()\\nclose()ClientDatagram \\n(e.g. U DP)\\nbind()\\nCS556 - Distributed Systems Tutori al by Eleftherios Kosmas 30\\n\\nExchanging data with stream socket\\n\\x84int count = send( sockid, msg, msgLen , flags);\\n\\x89msg: const void[], message to be transmitted\\n\\x89msgLen : integer, length of message (in bytes) to transmit\\n\\x89flags: integer, special options, usually just 0\\n\\x89count: # bytes transmitted (-1 if error)\\n\\x84int count = recv( sockid, recvBuf , bufLen , flags);\\n\\x89recvBuf : void[], stores received bytes\\n\\x89bufLen : # bytes received\\n\\x89flags: integer, special options, usually just 0\\n\\x89count: # bytes received (-1 if error)\\n\\x84Calls are blocking\\n\\x89returns only after data is sent / received\\nCS556 - Distributed Systems Tutori al by Eleftherios Kosmas 31\\n\\nExchanging data with datagram socket\\n\\x84int count = sendto( sockid, msg, msgLen, flags, \\n&foreignAddr , addrlen );\\n\\x89msg, msgLen, flags, count: same with send()\\n\\x89foreignAddr : struct sockaddr, address of the destination\\n\\x89addrLen : sizeof(foreignAddr)\\n\\x84int count = recvfrom( sockid, recvBuf , bufLen , \\nflags,& clientAddr, addrlen);\\n\\x89recvBuf , bufLen , flags, count: same with recv()\\n\\x89clientAddr : struct sockaddr, address of the client\\n\\x89addrLen : sizeof(clientAddr)\\n\\x84Calls are blocking\\n\\x89returns only after data is sent / received\\nCS556 - Distributed Systems Tutori al by Eleftherios Kosmas 32\\n\\nExample -E c h o\\n\\x84A client communicates with an “echo” server\\n\\x84The server simply echoes whatever it receives back to the client\\nCS556 - Distributed Systems Tutori al by Eleftherios Kosmas 33\\n\\nExample - Echo using stream socket\\nClient\\n1. Create a TCP socket\\n2. Establish connection\\n3. Communicate\\n4. Close the connectionServer\\n1. Create a TCP socket\\n2. Assign a port to socket\\n3. Set socket to listen\\n4. Repeatedly:\\na.Accept new connection\\nb.Communicate\\nc.Close the connection\\nCS556 - Distributed Systems Tutori al by Eleftherios Kosmas 34The server starts by getting ready to receive client connections…\\n\\nExample - Echo using stream socket\\nClient\\n1. Create a TCP socket\\n2. Establish connection\\n3. Communicate\\n4. Close the connectionServer\\n1. Create a TCP socket\\n2. Assign a port to socket\\n3. Set socket to listen\\n4. Repeatedly:\\na.Accept new connection\\nb.Communicate\\nc.Close the connection\\nCS556 - Distributed Systems Tutori al by Eleftherios Kosmas 35/* Create socket for incoming connections */\\nif ((servSock = socket(PF_INET, SOCK_STREAM,  IPPROTO_TCP)) < 0)\\nDieWithError(\"socket() failed\");\\n\\nExample - Echo using stream socket\\nClient\\n1. Create a TCP socket\\n2. Establish connection\\n3. Communicate\\n4. Close the connectionServer\\n1. Create a TCP socket\\n2. Assign a port to socket\\n3. Set socket to listen\\n4. Repeatedly:\\na.Accept new connection\\nb.Communicate\\nc.Close the connectionechoServAddr .sin_family = AF_INET;                /* Internet address family */\\nechoServAddr .sin_addr.s_addr = htonl(INADDR_ANY );     /* Any incoming interface */\\nechoServAddr .sin_port = htons(echoServPort);      /* Local port */\\nif (bind(servSock , (struct sockaddr *) & echoServAddr , sizeof(echoServAddr )) < 0)\\nDieWithError(\"bind() failed\");\\nCS556 - Distributed Systems Tutori al by Eleftherios Kosmas 36\\n\\nExample - Echo using stream socket\\nClient\\n1. Create a TCP socket\\n2. Establish connection\\n3. Communicate\\n4. Close the connectionServer\\n1. Create a TCP socket\\n2. Assign a port to socket\\n3. Set socket to listen\\n4. Repeatedly:\\na.Accept new connection\\nb.Communicate\\nc.Close the connection/* Mark the socket so it will li sten for incoming connections */\\nif (listen (servSock , MAXPENDING) < 0)\\nDieWithError(\"listen() failed\");\\nCS556 - Distributed Systems Tutori al by Eleftherios Kosmas 37\\n\\nExample - Echo using stream socket\\nClient\\n1. Create a TCP socket\\n2. Establish connection\\n3. Communicate\\n4. Close the connectionServer\\n1. Create a TCP socket\\n2. Assign a port to socket\\n3. Set socket to listen\\n4. Repeatedly:\\na.Accept new connection\\nb.Communicate\\nc.Close the connectionfor (;;) /* Run forever */\\n{\\nclntLen = sizeof(echoClntAddr);\\nif ((clientSock =accept(servSock,(struct sockaddr *)&ec hoClntAddr,&clntLen))<0)\\nDieWithError(\"accept() failed\");\\n...\\nCS556 - Distributed Systems Tutori al by Eleftherios Kosmas 38\\n\\nExample - Echo using stream socket\\nClient\\n1. Create a TCP socket\\n2. Establish connection\\n3. Communicate\\n4. Close the connectionServer\\n1. Create a TCP socket\\n2. Assign a port to socket\\n3. Set socket to listen\\n4. Repeatedly:\\na.Accept new connection\\nb.Communicate\\nc.Close the connection\\nCS556 - Distributed Systems Tutori al by Eleftherios Kosmas 39Server is now blocked waiting for connection from a client\\n…\\nA client decides to talk to the server\\n\\nExample - Echo using stream socket\\nClient\\n1. Create a TCP socket\\n2. Establish connection\\n3. Communicate\\n4. Close the connectionServer\\n1. Create a TCP socket\\n2. Assign a port to socket\\n3. Set socket to listen\\n4. Repeatedly:\\na.Accept new connection\\nb.Communicate\\nc.Close the connection/* Create a reliable, stream socket using TCP */\\nif ((clientSock = socket(PF_INET, SOCK_STREAM, IPPROTO_TCP)) < 0)\\nDieWithError(\"socket() failed\");\\nCS556 - Distributed Systems Tutori al by Eleftherios Kosmas 40\\n\\nExample - Echo using stream socket\\nClient\\n1. Create a TCP socket\\n2. Establish connection\\n3. Communicate\\n4. Close the connectionServer\\n1. Create a TCP socket\\n2. Assign a port to socket\\n3. Set socket to listen\\n4. Repeatedly:\\na.Accept new connection\\nb.Communicate\\nc.Close the connectionechoServAddr .sin_family = AF_INET;                     /* Internet address family */\\nechoServAddr .sin_addr.s_addr = inet_addr(echoservIP );    /* Server IP address*/\\nechoServAddr .sin_port = htons(echoServ Port);          /* Server port */\\nif (connect(clientSock, (struct sockaddr *) & echoServAddr, \\nsizeof(echoServAddr)) < 0)\\nDieWithError(\"conn ect() failed\");\\nCS556 - Distributed Systems Tutori al by Eleftherios Kosmas 41\\n\\nExample - Echo using stream socket\\nClient\\n1. Create a TCP socket\\n2. Establish connection\\n3. Communicate\\n4. Close the connectionServer\\n1. Create a TCP socket\\n2. Assign a port to socket\\n3. Set socket to listen\\n4. Repeatedly:\\na.Accept new connection\\nb.Communicate\\nc.Close the connectionfor (;;) /* Run forever */\\n{\\nclntLen = sizeof(echoClntAddr);\\nif ((clientSock =accept(servSock,(struct sockaddr *)&ec hoClntAddr,&clntLen))<0)\\nDieWithError(\"accept() failed\");\\n...Server’s accept procedure in now unblocked and returns client’s socket\\nCS556 - Distributed Systems Tutori al by Eleftherios Kosmas 42'),\n",
              " Document(page_content='Multitasking - Per-Client Process\\n- Example: echo using stream socket\\n...\\nwhile (childProcCount) { /* Clean up all zombies */\\nprocessID = waitpid((pid_t) -1, NULL, WHOANG); /* Non-blocking wait */\\nif (processID < 0) DieWithError (“...”);\\nelse if (processID == 0) break; /* No zombie to wait */\\nelse childProcCount--; /* Cleaned up after a child */\\n}\\n}\\n/* NOT REACHED */\\n}\\nCS556 - Distributed Systems Tutori al by Eleftherios Kosmas 82\\n\\nMultitasking - Per-Client Thread\\n\\'Forking a new process is expensive\\n\\x89duplicate the entire state (memory, stack, file/socket descriptors, …)\\n&Threads decrease this cost by allowing multitasking within the \\nsame process\\n\\x89threads share the same address space (code and data)\\nAn example is provided using POSIX Threads\\nCS556 - Distributed Systems Tutori al by Eleftherios Kosmas 83\\n\\nMultitasking - Per-Client Thread \\n- Example: echo using stream socket\\n#include <pthread.h> /* for POSIX threads */\\nvoid *ThreadMain (void *arg) /* Main program of a thread */\\nstruct ThreadArgs { /* Structure of arguments to pass to client thread */\\nint clntSock; /* socket descriptor for client */\\n};\\nint main(int argc, char *argv[]) {\\nint servSock ;                     /* Socket descriptor for server */\\nint clntSock ;                     /* Socket descriptor for client */\\nunsigned short echoServPort;      /* Server port */\\npthread_t threadID ; /* Thread ID from pthread_create()*/\\nstruct ThreadArgs * threadArgs ;    /* Pointer to argument structure for thread */\\nif (argc != 2) {     /* Test for correct number of arguments */\\nfprintf(stderr, \"Usage:  %s <Server Port>\\\\n\", argv[0]);\\nexit(1);\\n}\\nechoServPort = atoi(argv[1]);  /* First arg:  local port */\\nservSock = CreateTCPServerSocket (echoServPort);\\nfor (;;) { /* Run forever */\\nclntSock = AcceptTCPConnection (servSock );\\n/* Create separate memory for client argument */\\nif ((threadArgs = (struct ThreadArgs *) malloc(sizeof( struct ThreadArgs )))) == NULL) DieWithError(“…”);\\nthreadArgs -> clntSock = clntSock ;\\n/* Create client thread */\\nif (pthread_create (& threadID , NULL, ThreadMain , (void *) threadArgs ) != 0) DieWithError(“…”);\\n}\\n/* NOT REACHED */\\n}\\nCS556 - Distributed Systems Tutori al by Eleftherios Kosmas 84\\n\\nMultitasking - Per-Client Thread\\n- Example: echo using stream socket\\nvoid *ThreadMain(void * threadArgs )\\n{\\nint clntSock ;                   /* Socket descriptor for client connection */\\npthread_detach (pthread_self ()); /* Guarantees that thread resources are deallocated upon return */\\n/* Extract socket file descriptor from argument */\\nclntSock = ((struct ThreadArgs *) threadArgs ) -> clntSock;\\nfree(threadArgs );              /* Deallocate memory for argument */\\nHandleTCPClient (clntSock );\\nreturn (NULL);\\n}\\nCS556 - Distributed Systems Tutori al by Eleftherios Kosmas 85\\n\\nMultitasking - Constrained\\n\\x84Both process and thread incurs overhead\\n\\x89creation, scheduling and context switching\\n\\x84As their numbers increases \\n\\x89this overhead increases\\n\\x89after some point it would be better if a client was blocked\\n\\x84Solution: Constrained multitasking . The server: \\n\\x89begins, creating, binding and listening to a socket\\n\\x89creates a number of processes, each loops forever and accept \\nconnections from the same socket\\n\\x89when a connection is established \\n\\x84the client socket descriptor is returned to only one process\\n\\x84the other remain blocked\\nCS556 - Distributed Systems Tutori al by Eleftherios Kosmas 86\\n\\nMultitasking - Constrained \\n- Example: echo using stream socket\\nvoid ProcessMain(int servSock);      /* Main program of process */\\nint main(int argc, char *argv[]) {\\nint servSock;                    /* Socket descriptor for server*/\\nunsigned short echoServPort;     /* Server port */\\npid_t processID;                 /* Process ID */\\nunsigned int processLimit ;       /* Number of child processes to create */\\nunsigned int processCt ;          /* Process counter */\\nif (argc != 3) {     /* Test for correct number of arguments */\\nfprintf(stderr,\"Usage:  %s <SERVER PORT> <FORK LIMIT>\\\\n\", argv[0]);\\nexit(1);\\n}\\nechoServPort = atoi(argv[1]);  /* First arg: local port */\\nprocessLimit = atoi(argv[2]);  /* Second arg:  number of child processes */\\nservSock = CreateTCPServerSocket(echoServPort);\\nfor (processCt =0; processCt < processLimit ; processCt ++)\\nif ((processID = fork()) < 0) DieWithError(\"fork() failed\"); /* Fork child process */\\nelse if (processID == 0) ProcessMain(servSock); /* If this is the child process */\\nexit(0);  /* The children will carry on */\\n}\\nvoid ProcessMain(int servSock) {\\nint clntSock;                  /* Socket descriptor for client connection */\\nfor (;;) { /* Run forever */ \\nclntSock = AcceptTCPConnection(servSock);\\nprintf(\"with child process: %d\\\\n\", (unsigned int) getpid());\\nHandleTCPClient(clntSock);\\n}\\n}\\nCS556 - Distributed Systems Tutori al by Eleftherios Kosmas 87\\n\\nMultiplexing\\n\\x84So far, we have dealt with a single I/O channel\\n\\x84We may need to cope with multiple I/O channels\\n\\x89e.g., supporting the echo service over multiple ports\\n\\x84Problem : from which socket the serv er should accept connections \\nor receive messages?\\n\\x89it can be solved using non-blocking sockets\\n\\'but it requires polling\\n\\x84Solution : select()\\n\\x89specifies a list of descriptors to check for pending I/O operations\\n\\x89blocks until one of the descriptors is ready\\n\\x89returns which descriptors are ready\\nCS556 - Distributed Systems Tutori al by Eleftherios Kosmas 88\\n\\nMultiplexing\\n\\x84int select ( maxDescPlus1 , &readDescs , &writeDescs , \\n&exceptionDescs , &timeout );\\n\\x89maxDescsPlus1 : integer, hint of the maximum number of descriptors\\n\\x89readDescs : fd_set , checked for immediate input availability\\n\\x89writeDescs : fd_set , checked for the ability to immediately write data\\n\\x89exceptionDescs : fd_set , checked for pending exceptions\\n\\x89timeout : struct timeval , how long it blocks (NULL Æforever)\\n-r e t u r n s the total number of ready descri ptors, -1 in case of error\\n-c h a n g e s the descriptor lists so that only the corresponding positions are set\\nint FD_ZERO  (fd_set *descriptorVec tor);                 /* removes all descriptors from vector */\\nint FD_CLR   (int d escriptor, fd_set *descriptorVector); /* remove descriptor from vector */\\nint FD_SET   (int d escriptor, fd_set *descriptorVector); /* add descriptor to vector */\\nint FD_ISSET (int descripto r, fd_set *descriptorVector); /* vector membership check */\\nstruct timeval {\\ntime_t tv_sec; /* seconds */\\ntime_t tv_usec; /* microseconds */\\n};\\nCS556 - Distributed Systems Tutori al by Eleftherios Kosmas 89\\n\\nMultiplexing - Example: echo using stream socket\\n#include <sys/time.h>       /* for struct timeval {} */\\nint main(int argc, char *argv[])\\n{\\nint *servSock;                   /* Socket descriptors for server */\\nint maxDescriptor;               /* Maximum socket descriptor value */\\nfd_setsockSet;                  /* Set of socket descriptors for select() */\\nlong timeout ;                    /* Timeout value given on command-line */\\nstruct timeval selTimeout ;       /* Timeout for select() */\\nint running = 1;                 /* 1 if server should be running; 0 otherwise */\\nint noPorts;                     /* Number of port specified on command-line */\\nint port;                        /* Looping variable for ports */\\nunsigned short portNo;           /* Actual port number */\\nif (argc < 3) {     /* Test for correct number of arguments */\\nfprintf(stderr, \"Usage:  %s <Timeout (secs.)> <Port 1> ...\\\\n\", argv[0]);\\nexit(1);\\n}\\ntimeout = atol(argv[1]);        /* First arg: Timeout */\\nnoPorts = argc - 2;             /* Number of ports is argument count minus 2 */\\nservSock = (int *) malloc(noPorts * sizeof(int)); /* Allocate list of sockets for incoming connections */\\nmaxDescriptor = -1; /* Initialize maxDescriptor for use by select() */\\nfor (port = 0; port < noPorts; port++) { /* Create list of ports and sockets to handle ports */ \\nportNo = atoi(argv[port + 2]);                /* Add port to port list. Skip first two arguments */\\nservSock[port] = CreateTCPServerSocket(portNo); /* Create port socket */\\nif (servSock[port] > maxDescriptor) /* Determine if new descriptor is the largest */\\nmaxDescriptor = servSock[port];\\n}\\n...\\nCS556 - Distributed Systems Tutori al by Eleftherios Kosmas 90\\n\\nMultiplexing - Example: echo using stream socket\\nprintf(\"Starting server:  Hit return to shutdown\\\\n\");\\nwhile (running) {\\n/* Zero socket descriptor vector and set for server sockets */\\n/* This must be reset every time select() is called */\\nFD_ZERO(&sockSet );\\nFD_SET(STDIN_FILENO, & sockSet); /* Add keyboard to descriptor vector */\\nfor (port = 0; port < noPorts; port++) FD_SET(servSock[port], &sockSet);\\n/* Timeout specification */\\n/* This must be reset every time select() is called */\\nselTimeout .tv_sec = timeout;       /* timeout (secs.) */\\nselTimeout .tv_usec = 0;            /* 0 microseconds */\\n/* Suspend program until descriptor is ready or timeout */\\nif (select (maxDescriptor + 1, & sockSet, NULL, NULL, & selTimeout ) == 0)\\nprintf(\"No echo requests for %ld secs...Server still alive\\\\n\", timeout);\\nelse  {\\nif (FD_ISSET (0, &sockSet )) { /* Check keyboard */\\nprintf(\"Shutting down server\\\\n\");\\ngetchar();\\nrunning = 0;\\n}\\nfor (port = 0; port < noPorts; port++)\\nif (FD_ISSET (servSock[port], & sockSet)) {\\nprintf(\"Request on port %d:  \", port);\\nHandleTCPClient(AcceptTCPConnection(servSock[port]));\\n}\\n}\\n}\\nfor (port = 0; port < noPorts; port++) close(servSock[port]);  /* Close sockets */ \\nfree(servSock); /* Free list of sockets */\\nexit(0);\\n}\\nCS556 - Distributed Systems Tutori al by Eleftherios Kosmas 91'),\n",
              " Document(page_content='Asynchronous I/O\\n\\'Non-blocking sockets require “ polling ”\\n&With asynchronous I/O the operating system informs the program \\nwhen a socket call is completed\\n\\x89the SIGIO signal is delivered to the proces s, when some I/O-related event \\noccurs on the socket\\n\\x84Three steps:\\n/* i. inform the system of the desired disposition of the signal */\\nstruct sigaction handler;\\nhandler.sa_handler = SIGIOHandler;\\nif (sigfillset(&handler.sa_m ask) < 0) DiewithError(“…”);\\nhandler.sa_flags = 0;\\nif (sigaction( SIGIO, &handler, 0) < 0) DieWithError(“…”);\\n/* ii. ensure that signals related to the socket will be delivered to this process */\\nif (fcntl(sock, F_SETOWN , getpid() ) < 0) DieWithError();\\n/* iii. mark the socket as being primed for asynchronous I/O */\\nif (fcntl(sock, F_SETFL, O_NONBLOCK | FASYNC ) < 0) DieWithError();\\nCS556 - Distributed Systems Tutori al by Eleftherios Kosmas 73\\n\\nTimeouts\\n\\x84Using asynchronous I/O the operat ing system informs the program \\nfor the occurrence of an I/O related event\\n\\x89what happens if a UPD packet is lost?\\n\\x84We may need to know if something doesn’t happen after some time \\n\\x84unsigned int alarm (unsigned int secs);\\n\\x89starts a timer that expires after the specified number of seconds ( secs )\\n\\x89returns \\n\\x84the number of seconds remaining unti l any previously scheduled alarm was \\ndue to be delivered, \\n\\x84or zero if there was no previously scheduled alarm\\n\\x89process receives SIGALARM signal when timer expires and errno is set to \\nEINTR\\nCS556 - Distributed Systems Tutori al by Eleftherios Kosmas 74\\n\\nAsynchronous I/O -E x a m p l e\\n/* Inform the system of the desired disposition of the signal */\\nstruct sigaction myAction;\\nmyAction.sa_handler = CatchAlarm;\\nif (sigfillset(&myAction.sa_ mask) < 0) DiewithError(“…”);\\nmyAction.sa_flags = 0;\\nif (sigaction( SIGALARM , &handler, 0) < 0) DieWithError(“…”);\\n/* Set alarm */\\nalarm(TIMEOUT_SECS);\\n/* Call blocking receive */\\nif (recvfrom(sock, echoBuffe r, ECHOMAX, 0, … ) < 0) {\\nif (errno = EINTR) … /*Alarm went off */\\nelse DieWithError(“re cvfrom() failed”);\\n}\\nCS556 - Distributed Systems Tutori al by Eleftherios Kosmas 75\\n\\nIterative Stream Socket Server\\n\\x84Handles one client at a time\\n\\x84Additional clients can connect while one is being served\\n\\x89connections are established\\n\\x89they are able to send requests\\nbut, the server will respond after it finishes with the first client\\n&Works well if each client requir ed a small, bounded amount of \\nwork by the server\\n\\'otherwise, the clients experience long delays\\nCS556 - Distributed Systems Tutori al by Eleftherios Kosmas 76\\n\\nIterative Server - Example: echo using stream socket\\n#include <stdio.h>      /* for printf() and fprintf() */\\n#include <sys/socket.h> /* for socket(), bind(), connect(), recv() and send() */\\n#include <arpa/inet.h>  /* for sockaddr_in and inet_ntoa() */\\n#include <stdlib.h>     /* for atoi() and exit() */\\n#include <string.h>     /* for memset() */\\n#include <unistd.h>     /* for close() */\\n#define MAXPENDING 5    /* Maximum outstanding connection requests */\\nvoid DieWithError(char *errorMessage);  /* Error handling function */\\nvoid HandleTCPClient(int clntSocket);   /* TCP client handling function */\\nint main(int argc, char *argv[]) {\\nint servSock ;                    /* Socket descriptor for server */\\nint clntSock ;                    /* Socket descriptor for client */\\nstruct sockaddr_in echoServAddr ; /* Local address */\\nstruct sockaddr_in echoClntAddr ; /* Client address */\\nunsigned short echoServPort;     /* Server port */\\nunsigned int clntLen;            /* Length of client address data structure */\\nif (argc != 2) {     /* Test for correct number of arguments */\\nfprintf(stderr, \"Usage:  %s <Server Port>\\\\n\", argv[0]);\\nexit(1);\\n}\\nechoServPort = atoi(argv[1]);  /* First arg:  local port */\\n/* Create socket for incoming connections */\\nif ((servSock = socket(PF_INET, SOCK_STREAM, IPPROTO_TCP)) < 0)\\nDieWithError(\"socket() failed\");\\n...\\nCS556 - Distributed Systems Tutori al by Eleftherios Kosmas 77\\n\\nIterative Server - Example: echo using stream socket\\n...\\n/* Construct local address structure */\\nmemset(&echoServAddr, 0, sizeof(echoServAddr));   /* Zero out structure */\\nechoServAddr .sin_family = AF_INET;                /* Internet address family */\\nechoServAddr .sin_addr.s_addr = htonl(INADDR_ANY); /* Any incoming interface */\\nechoServAddr .sin_port = htons(echoServPort);      /* Local port */\\n/* Bind to the local address */\\nif (bind( servSock , (struct sockaddr *) & echoServAddr , sizeof( echoServAddr )) < 0)\\nDieWithError(\"bind() failed\");\\n/* Mark the socket so it will listen for incoming connections */\\nif (listen (servSock , MAXPENDING) < 0)\\nDieWithError(\"listen() failed\");\\nfor (;;) /* Run forever */\\n{\\n/* Set the size of the in-out parameter */\\nclntLen = sizeof( echoClntAddr );\\n/* Wait for a client to connect */\\nif ((clntSock = accept (servSock , (struct sockaddr *) & echoClntAddr , \\n&clntLen)) < 0)\\nDieWithError(\"accept() failed\");\\n/* clntSock is connected to a client! */\\nprintf(\"Handling client %s\\\\n\", inet_ntoa (echoClntAddr.sin_addr));\\nHandleTCPClient (clntSock );\\n}\\n/* NOT REACHED */\\n}\\nCS556 - Distributed Systems Tutori al by Eleftherios Kosmas 78\\n\\nIterative Server - Example: echo using stream socket\\n#define RCVBUFSIZE 32   /* Size of receive buffer */\\nvoid HandleTCPClient (intclntSocket )\\n{\\nchar echoBuffer[RCVBUFSIZE];        /* Buffer for echo string */\\nint recvMsgSize;                    /* Size of received message */\\n/* Receive message from client */\\nif ((recvMsgSize = recv(clntSocket , echoBuffer, RCVBUFSIZE, 0)) < 0)\\nDieWithError(\"recv() failed\");\\n/* Send received string and receive again until end of transmission */\\nwhile (recvMsgSize > 0)      /* zero indicates end of transmission */\\n{\\n/* Echo message back to client */\\nif (send( clntSocket , echoBuffer, recvMsgSize, 0) != recvMsgSize)\\nDieWithError(\"send() failed\");\\n/* See if there is more data to receive */\\nif ((recvMsgSize = recv(clntSocket , echoBuffer, RCVBUFSIZE, 0)) < 0)\\nDieWithError(\"recv() failed\");\\n}\\nclose(clntSocket );    /* Close client socket */\\n}\\nCS556 - Distributed Systems Tutori al by Eleftherios Kosmas 79\\n\\nMultitasking - Per-Client Process\\n\\x84For each client connection request, a new process is created to \\nhandle the communication\\n\\x84int fork();\\n\\x89a new process is created, identical to the calling process, except for its \\nprocess ID and the return value it receives from fork()\\n\\x89returns 0 to child process, and the process ID of the new child to \\nparent\\nCaution :\\n\\x89when a child process terminates, it  does not automatically disappears\\n\\x89use waitpid() to parent in order to “harvest” zombies\\nCS556 - Distributed Systems Tutori al by Eleftherios Kosmas 80\\n\\nMultitasking - Per-Client Process\\n- Example: echo using stream socket\\n#include <sys/wait.h> /* for waitpid() */\\nint main(int argc, char *argv[]) {\\nint servSock ;                     /* Socket descriptor for server */\\nint clntSock ;                     /* Socket descriptor for client */\\nunsigned short echoServPort;      /* Server port */\\npid_tprocessID ; /* Process ID from fork()*/\\nunsigned int childProcCount = 0;  /* Number of child processes */\\nif (argc != 2) {     /* Test for correct number of arguments */\\nfprintf(stderr, \"Usage:  %s <Server Port>\\\\n\", argv[0]);\\nexit(1);\\n}\\nechoServPort = atoi(argv[1]);  /* First arg:  local port */\\nservSock = CreateTCPServerSocket (echoServPort);\\nfor (;;) { /* Run forever */\\nclntSock = AcceptTCPConnection (servSock );\\nif ((processID = fork()) < 0) DieWithError (“fork() failed”);  /* Fork child process */\\nelse if ( processID = 0) { /* This is the child process */\\nclose(servSock ); /* child closes listening socket */\\nHandleTCPClient( clntSock );  \\nexit(0); /* child process terminates */\\n}\\nclose(clntSock ); /* parent closes child socket */\\nchildProcCount++; /* Increment number of outstanding child processes */\\n...\\nCS556 - Distributed Systems Tutori al by Eleftherios Kosmas 81\\n\\nMultitasking - Per-Client Process\\n- Example: echo using stream socket\\n...\\nwhile (childProcCount) { /* Clean up all zombies */\\nprocessID = waitpid((pid_t) -1, NULL, WHOANG); /* Non-blocking wait */\\nif (processID < 0) DieWithError (“...”);\\nelse if (processID == 0) break; /* No zombie to wait */\\nelse childProcCount--; /* Cleaned up after a child */\\n}\\n}\\n/* NOT REACHED */\\n}\\nCS556 - Distributed Systems Tutori al by Eleftherios Kosmas 82\\n\\nMultitasking - Per-Client Thread\\n\\'Forking a new process is expensive\\n\\x89duplicate the entire state (memory, stack, file/socket descriptors, …)\\n&Threads decrease this cost by allowing multitasking within the \\nsame process\\n\\x89threads share the same address space (code and data)\\nAn example is provided using POSIX Threads\\nCS556 - Distributed Systems Tutori al by Eleftherios Kosmas 83')]"
            ]
          },
          "metadata": {},
          "execution_count": 15
        }
      ]
    },
    {
      "cell_type": "code",
      "source": [
        "embeddings = GoogleGenerativeAIEmbeddings(model=\"models/embedding-001\",google_api_key=GOOGLE_API_KEY)"
      ],
      "metadata": {
        "id": "aqoAxRfOibjF"
      },
      "execution_count": 16,
      "outputs": []
    },
    {
      "cell_type": "code",
      "source": [
        "llm2 = GooglePalm(temperature=0, google_api_key = GOOGLE_API_KEY)"
      ],
      "metadata": {
        "id": "47layIONid-e"
      },
      "execution_count": 17,
      "outputs": []
    },
    {
      "cell_type": "code",
      "source": [
        "vector_index = Chroma.from_texts(texts, embeddings).as_retriever(search_kwargs={\"k\":5})\n",
        "# Database : Chroma - using vector database as Retriever"
      ],
      "metadata": {
        "id": "YbhbRPb5if6Z"
      },
      "execution_count": 18,
      "outputs": []
    },
    {
      "cell_type": "code",
      "source": [
        "qa_chain = RetrievalQA.from_chain_type(\n",
        "    llm=llm2, # Pass the Google PaLM LLM instance\n",
        "    chain_type=\"stuff\", # Use a suitable chain type, 'stuff' is just an example\n",
        "    retriever=vector_index,\n",
        "    return_source_documents=True\n",
        ")\n"
      ],
      "metadata": {
        "id": "GSrb-5z_iiDy"
      },
      "execution_count": 19,
      "outputs": []
    },
    {
      "cell_type": "code",
      "source": [
        "question = \"Explain the types of sockets ?\"\n",
        "result = qa_chain({\"query\": question})\n",
        "result[\"result\"]"
      ],
      "metadata": {
        "colab": {
          "base_uri": "https://localhost:8080/",
          "height": 36
        },
        "id": "U5_4N7FPik4Z",
        "outputId": "5f802107-5bb8-4584-b88f-93ec72c03e47"
      },
      "execution_count": 39,
      "outputs": [
        {
          "output_type": "execute_result",
          "data": {
            "text/plain": [
              "'There are two types of sockets:\\n1. Stream sockets (e.g. TCP)\\n2. Datagram sockets (e.g. UDP)'"
            ],
            "application/vnd.google.colaboratory.intrinsic+json": {
              "type": "string"
            }
          },
          "metadata": {},
          "execution_count": 39
        }
      ]
    },
    {
      "cell_type": "code",
      "source": [
        "Markdown(result[\"result\"])"
      ],
      "metadata": {
        "colab": {
          "base_uri": "https://localhost:8080/",
          "height": 103
        },
        "id": "iDKFjLmhi5qv",
        "outputId": "00624531-7265-4620-c1c6-ab9999d914a9"
      },
      "execution_count": 26,
      "outputs": [
        {
          "output_type": "execute_result",
          "data": {
            "text/plain": [
              "<IPython.core.display.Markdown object>"
            ],
            "text/markdown": "There are two types of sockets:\n1. Stream sockets (e.g. TCP)\n2. Datagram sockets (e.g. UDP)"
          },
          "metadata": {},
          "execution_count": 26
        }
      ]
    },
    {
      "cell_type": "code",
      "source": [
        "result[\"source_documents\"]"
      ],
      "metadata": {
        "colab": {
          "base_uri": "https://localhost:8080/"
        },
        "id": "Cc7gbMSojNwN",
        "outputId": "8a504329-13be-4e87-a872-d5e9e83d8347"
      },
      "execution_count": 40,
      "outputs": [
        {
          "output_type": "execute_result",
          "data": {
            "text/plain": [
              "[Document(page_content='Introduction to \\nSockets Programming in C \\nusing TCP/IP\\nProfessor: Panagiota Fatourou\\nTA: Eleftherios Kosmas\\nCSD - May 2012\\n\\nIntroduction\\nCS556 - Distributed Systems Tutori al by Eleftherios Kosmas 2\\x84Computer Network\\n\\x89hosts, routers, \\ncommunication channels\\n\\x84Hosts run applications\\n\\x84Routers forward information\\n\\x84Packets : sequence of bytes\\n\\x89contain control information\\n\\x89e.g. destination host\\n\\x84Protocol is an agreement\\n\\x89meaning of packets\\n\\x89structure and size of packets\\ne.g. Hypertext Transfer Protocol \\n(HTTP)\\nHost\\nRouter\\nCommunication \\nchannel\\n\\nProtocol Families - TCP/IP\\nCS556 - Distributed Systems Tutori al by Eleftherios Kosmas 3\\x84Several protocols for different problems\\n)Protocol Suites or Protocol Families: TCP/IP\\n\\x84TCP/IP provides end-to-end connectivity specifying how data \\nshould be \\n\\x89formatted, \\n\\x89addressed, \\n\\x89transmitted, \\n\\x89routed, and \\n\\x89received at the destination\\n\\x84can be used in the internet a nd in stand-alone private networks\\n\\x84it is organized into layers\\n\\nTCP/IP\\n* image is taken from “http://en.wikipedia.org/wiki/TCP/IP_model”*\\nCommunication \\nChannelsNetwork Layer \\nIPTransport Layer \\nTCP or UDP\\nFTP, SMTP, …\\nCS556 - Distributed Systems Tutori al by Eleftherios Kosmas 4\\n\\nInternet Protocol (IP)\\n\\x84provides a datagram service\\n\\x89packets are handled and delivered \\nindependently\\n\\x84best-effort protocol\\n\\x89may loose, reorder or duplicate packets\\n\\x84each packet must contain an IP \\naddress of its destination\\nCS556 - Distributed Systems Tutori al by Eleftherios Kosmas 5\\n\\nAddresses - IPv4\\n72 4\\nClass A: 0 Network ID Host ID\\n14 16\\nClass B: 1 0 Network ID Host ID\\n21 8\\nClass C: 1 1 0 Network ID Host ID\\n28\\nClass D (multicast): 1 1 1 0 Multicast address\\n27\\nClass E (reserved): 1 1 1 1 unused 01.0.0.0 to \\n127.255.255.255\\n128.0.0 .0 to \\n191.255.255.255\\n192.0.0 .0 to \\n223.255.255.255\\n224.0.0 .0 to \\n239.255.255.255\\n240.0.0 .0 to \\n255.255.255.255Range of add resses\\x84The 32bits of an IPv4 address are broken into 4 octets , or 8 bit fields \\n(0-255 value in decimal notation).\\n\\x84For networks of different size,\\n\\x89the first one (for large networks) to three (for small networks) octets can \\nbe use d to identify the network , while \\n\\x89the rest of the octets can be used to identify the node on the network.\\nCS556 - Distributed Systems Tutori al by Eleftherios Kosmas 6\\n\\nLocal Area Network Addresses - IPv4\\nCS556 - Distributed Systems Tutori al by Eleftherios Kosmas 7\\n\\nTCP vs UDP\\n\\x84Both use port numbers\\n\\x89application-specific construct se rving as a communication endpoint\\n\\x8916-bit unsigned integer, thus ranging from 0 to 65535\\n)to provide end-to-end transport\\n\\x84UDP: User Datagram Protocol\\n\\x89no acknowledgements\\n\\x89no retransmissions\\n\\x89out of order, duplicates possible\\n\\x89connectionless, i.e., app indicates destination for each packet\\n\\x84TCP: Transmission Control Protocol\\n\\x89reliable byte-stream channel (in order, all arrive, no duplicates)\\n\\x84similar to file I/O\\n\\x89flow control\\n\\x89connection-oriented\\n\\x89bidirectional\\nCS556 - Distributed Systems Tutori al by Eleftherios Kosmas 8\\n\\nTCP vs UDP\\n\\x84TCP is used for services with a large data capacity, and a persistent \\nconnection\\n\\x84UDP is more commonly used for quick lookups, and single use \\nquery-reply actions.\\n\\x84Some common examples of TCP a nd UDP with their default ports:\\nDNS lookup UDP 53\\nFTP TCP 21\\nHTTP TCP 80\\nPOP3 TCP 110\\nTelnet TCP 23\\nCS556 - Distributed Systems Tutori al by Eleftherios Kosmas 9\\n\\nBerkley Sockets\\n\\x84Universally known as Sockets\\n\\x84It is an abstraction through which an \\napplication may send and receive data\\n\\x84Provide generic access to interprocess\\ncommunication services\\n\\x89e.g. IPX/SPX, Appletalk, TCP/IP\\n\\x84Standard API for networking\\nHostAppli cation\\nSocket\\nTCP\\nIP\\nHostAppli cation\\nSocket\\nTCP\\nIP\\nRouterIP Channel Channel\\nCS556 - Distributed Systems Tutori al by Eleftherios Kosmas 10\\n\\nSockets\\n\\x84Uniquely identified by\\n\\x89an internet address\\n\\x89an end-to-end protocol (e.g. TCP or UDP)\\n\\x89a port number\\n\\x84Two types of (TCP/IP) sockets\\n\\x89Stream sockets (e.g. uses TCP)\\n\\x84provide reliable byte-stream service\\n\\x89Datagram sockets (e.g. uses UDP)\\n\\x84provide best-effort datagram service\\n\\x84messages up to 65.500 bytes\\n\\x84Socket extend the convectional UNIX I/O facilities\\n\\x89file descriptors for network communication\\n\\x89extended the read and write system calls0\\n1\\n2internal data \\nstructure for file 1\\nFamily: PF _INET\\nService: SOCK_STREAM\\nLocal _IP:\\nRemote_IP:\\nRemote_Port:\\n…Local _Port: Descri ptor Table\\nCS556 - Distributed Systems Tutori al by Eleftherios Kosmas 11\\n\\nSockets\\nTCP UDP\\nIP1 2 6553 5 1 2 6553 5Applications\\nTCP sockets UDP socke ts\\nTCP ports UDP portsDescri ptor \\nreferences\\nSockets bound to ports\\nCS556 - Distributed Systems Tutori al by Eleftherios Kosmas 12\\n\\nSocket Programming\\nCS556 - Distributed Systems Tutori al by Eleftherios Kosmas 13\\n\\nClient-Server communication\\n\\x84Server \\n\\x89passively waits for and responds to clients\\n\\x89passive socket\\n\\x84Client\\n\\x89initiates the communication\\n\\x89must know the address and the port of the server\\n\\x89active socket\\nCS556 - Distributed Systems Tutori al by Eleftherios Kosmas 14\\n\\nSockets -P r o c e d u r e s\\nCS556 - Distributed Systems Tutori al by Eleftherios Kosmas 15\\n\\nClient - Server Communication -Unix\\nsocket()\\nbind()\\nlisten()\\naccept()\\nrecv()\\nsend()\\nclose()Server\\nsocket()\\nconnect()\\nsend()\\nrecv()\\nclose()Client\\nsynchro nizatio n \\npointStream \\n(e.g. TCP)\\nsocket()\\nbind()\\nrecvfrom()\\nsendto()\\nclose()Server\\nsocket()\\nsendto()\\nrecvfrom()\\nclose()ClientDatagram \\n(e.g. U DP)\\nbind()\\nCS556 - Distributed Systems Tutori al by Eleftherios Kosmas 16\\n\\nSocket creation in C: socket()\\n\\x84int sockid= socket( family, type, protocol );\\n\\x89sockid: socket descriptor, an integer (like a file-handle)\\n\\x89family : integer, communication domain, e.g.,\\n\\x84PF_INET, IPv4 protocols, Internet addresses (typically used)\\n\\x84PF_UNIX, Local communication, File addresses\\n\\x89type: communication type\\n\\x84SOCK_STREAM - reliable, 2-way, connection-based service\\n\\x84SOCK_DGRAM - unreliable, connectionl ess, messages of maximum length\\n\\x89protocol : specifies protocol \\n\\x84IPPROTO_TCP  IPPROTO_UDP\\n\\x84usually set to 0 (i.e., use default protocol)\\n\\x89upon failure returns -1\\n)NOTE: socket call does not specify where data will be coming from, \\nnor where it will be going to – it just creates the interface!\\nCS556 - Distributed Systems Tutori al by Eleftherios Kosmas 17\\n\\nClient - Server Communication -Unix\\nsocket()\\nbind()\\nlisten()\\naccept()\\nrecv()\\nsend()\\nclose()Server\\nsocket()\\nconnect()\\nsend()\\nrecv()\\nclose()Client\\nsynchro nizatio n \\npointStream \\n(e.g. TCP)\\nsocket()\\nbind()\\nrecvfrom()\\nsendto()\\nclose()Server\\nsocket()\\nsendto()\\nrecvfrom()\\nclose()ClientDatagram \\n(e.g. U DP)\\nbind()\\nCS556 - Distributed Systems Tutori al by Eleftherios Kosmas 18\\n\\nSocket close in C: close()\\n\\x84When finished using a socket, the socket should be closed\\n\\x84status= close( sockid);\\n\\x89sockid: the file descriptor (socket being closed)\\n\\x89status : 0 if successful, -1 if error\\n\\x84Closing a socket\\n\\x89closes a connection (for stream socket)\\n\\x89frees up the port used by the socket\\nCS556 - Distributed Systems Tutori al by Eleftherios Kosmas 19\\n\\nSpecifying Addresses\\n\\x84Socket API defines a generic data type for addresses:\\n\\x84Particular form of the sockaddr used for TCP/IP addresses:\\n)Important : sockaddr_in can be casted to a sockaddrstruct sockaddr {\\nunsigned short sa_family; /* Address family (e.g. AF_INET) */\\nchar sa_data[14];         /* Family-specific address information */\\n}\\nstruct in_addr {\\nunsigned long s_addr;        /* Internet address (32 bits) */\\n}\\nstruct sockaddr_in {\\nunsigned short sin_family;   /* Internet protocol (AF_INET) */\\nunsigned short sin_port;     /* Address port (16 bits) */\\nstruct in_addr sin_addr;   /* Internet address (32 bits) */\\nchar sin_zero[8];            /* Not used */\\n}\\nCS556 - Distributed Systems Tutori al by Eleftherios Kosmas 20\\n\\nClient - Server Communication -Unix\\nsocket()\\nbind()\\nlisten()\\naccept()\\nrecv()\\nsend()\\nclose()Server\\nsocket()\\nconnect()\\nsend()\\nrecv()\\nclose()Client\\nsynchro nizatio n \\npointStream \\n(e.g. TCP)\\nsocket()\\nbind()\\nrecvfrom()\\nsendto()\\nclose()Server\\nsocket()\\nsendto()\\nrecvfrom()\\nclose()ClientDatagram \\n(e.g. U DP)\\nbind()\\nCS556 - Distributed Systems Tutori al by Eleftherios Kosmas 21\\n\\nAssign address to socket: bind()\\n\\x84associates and reserves a port for use by the socket\\n\\x84int status = bind( sockid, &addrport , size);\\n\\x89sockid: integer, socket descriptor\\n\\x89addrport: struct sockaddr, the (IP) address and port of the machine\\n\\x84for TCP/IP server, internet address is usually set to INADDR_ANY, i.e., \\nchooses any incoming interface\\n\\x89size: the size (in bytes) of the addrport structure\\n\\x89status : upon failure -1 is returned\\nCS556 - Distributed Systems Tutori al by Eleftherios Kosmas 22\\n\\nbind()- Example with TCP\\nint sockid;\\nstruct sockaddr_in addrport ;\\nsockid= socket (PF_INET, SOCK_STREAM, 0);\\naddrport .sin_family = AF_INET;\\naddrport .sin_port = htons(5100);\\naddrport .sin_addr.s_addr = htonl(INADDR_ANY);\\nif(bind(sockid, (struct sockaddr *) & addrport , sizeof( addrport ))!= -1) { \\n…}\\nCS556 - Distributed Systems Tutori al by Eleftherios Kosmas 23\\n\\nSkipping the bind()\\n\\x84bind can be skipped for both types of sockets\\n\\x84Datagram socket:\\n\\x89if only sending, no need to bind.  Th e OS finds a port each time the socket \\nsends a packet\\n\\x89if receiving, need to bind\\n\\x84Stream socket:\\n\\x89destination determined during connection setup\\n\\x89don’t need to know port sending from  (during connection setup, receiving \\nend is informed of port)\\nCS556 - Distributed Systems Tutori al by Eleftherios Kosmas 24\\n\\nClient - Server Communication -Unix\\nsocket()\\nbind()\\nlisten()\\naccept()\\nrecv()\\nsend()\\nclose()Server\\nsocket()\\nconnect()\\nsend()\\nrecv()\\nclose()Client\\nsynchro nizatio n \\npointStream \\n(e.g. TCP)\\nsocket()\\nbind()\\nrecvfrom()\\nsendto()\\nclose()Server\\nsocket()\\nsendto()\\nrecvfrom()\\nclose()ClientDatagram \\n(e.g. U DP)\\nbind()\\nCS556 - Distributed Systems Tutori al by Eleftherios Kosmas 25'),\n",
              " Document(page_content='Introduction to \\nSockets Programming in C \\nusing TCP/IP\\nProfessor: Panagiota Fatourou\\nTA: Eleftherios Kosmas\\nCSD - May 2012\\n\\nIntroduction\\nCS556 - Distributed Systems Tutori al by Eleftherios Kosmas 2\\x84Computer Network\\n\\x89hosts, routers, \\ncommunication channels\\n\\x84Hosts run applications\\n\\x84Routers forward information\\n\\x84Packets : sequence of bytes\\n\\x89contain control information\\n\\x89e.g. destination host\\n\\x84Protocol is an agreement\\n\\x89meaning of packets\\n\\x89structure and size of packets\\ne.g. Hypertext Transfer Protocol \\n(HTTP)\\nHost\\nRouter\\nCommunication \\nchannel\\n\\nProtocol Families - TCP/IP\\nCS556 - Distributed Systems Tutori al by Eleftherios Kosmas 3\\x84Several protocols for different problems\\n)Protocol Suites or Protocol Families: TCP/IP\\n\\x84TCP/IP provides end-to-end connectivity specifying how data \\nshould be \\n\\x89formatted, \\n\\x89addressed, \\n\\x89transmitted, \\n\\x89routed, and \\n\\x89received at the destination\\n\\x84can be used in the internet a nd in stand-alone private networks\\n\\x84it is organized into layers\\n\\nTCP/IP\\n* image is taken from “http://en.wikipedia.org/wiki/TCP/IP_model”*\\nCommunication \\nChannelsNetwork Layer \\nIPTransport Layer \\nTCP or UDP\\nFTP, SMTP, …\\nCS556 - Distributed Systems Tutori al by Eleftherios Kosmas 4\\n\\nInternet Protocol (IP)\\n\\x84provides a datagram service\\n\\x89packets are handled and delivered \\nindependently\\n\\x84best-effort protocol\\n\\x89may loose, reorder or duplicate packets\\n\\x84each packet must contain an IP \\naddress of its destination\\nCS556 - Distributed Systems Tutori al by Eleftherios Kosmas 5\\n\\nAddresses - IPv4\\n72 4\\nClass A: 0 Network ID Host ID\\n14 16\\nClass B: 1 0 Network ID Host ID\\n21 8\\nClass C: 1 1 0 Network ID Host ID\\n28\\nClass D (multicast): 1 1 1 0 Multicast address\\n27\\nClass E (reserved): 1 1 1 1 unused 01.0.0.0 to \\n127.255.255.255\\n128.0.0 .0 to \\n191.255.255.255\\n192.0.0 .0 to \\n223.255.255.255\\n224.0.0 .0 to \\n239.255.255.255\\n240.0.0 .0 to \\n255.255.255.255Range of add resses\\x84The 32bits of an IPv4 address are broken into 4 octets , or 8 bit fields \\n(0-255 value in decimal notation).\\n\\x84For networks of different size,\\n\\x89the first one (for large networks) to three (for small networks) octets can \\nbe use d to identify the network , while \\n\\x89the rest of the octets can be used to identify the node on the network.\\nCS556 - Distributed Systems Tutori al by Eleftherios Kosmas 6\\n\\nLocal Area Network Addresses - IPv4\\nCS556 - Distributed Systems Tutori al by Eleftherios Kosmas 7\\n\\nTCP vs UDP\\n\\x84Both use port numbers\\n\\x89application-specific construct se rving as a communication endpoint\\n\\x8916-bit unsigned integer, thus ranging from 0 to 65535\\n)to provide end-to-end transport\\n\\x84UDP: User Datagram Protocol\\n\\x89no acknowledgements\\n\\x89no retransmissions\\n\\x89out of order, duplicates possible\\n\\x89connectionless, i.e., app indicates destination for each packet\\n\\x84TCP: Transmission Control Protocol\\n\\x89reliable byte-stream channel (in order, all arrive, no duplicates)\\n\\x84similar to file I/O\\n\\x89flow control\\n\\x89connection-oriented\\n\\x89bidirectional\\nCS556 - Distributed Systems Tutori al by Eleftherios Kosmas 8\\n\\nTCP vs UDP\\n\\x84TCP is used for services with a large data capacity, and a persistent \\nconnection\\n\\x84UDP is more commonly used for quick lookups, and single use \\nquery-reply actions.\\n\\x84Some common examples of TCP a nd UDP with their default ports:\\nDNS lookup UDP 53\\nFTP TCP 21\\nHTTP TCP 80\\nPOP3 TCP 110\\nTelnet TCP 23\\nCS556 - Distributed Systems Tutori al by Eleftherios Kosmas 9\\n\\nBerkley Sockets\\n\\x84Universally known as Sockets\\n\\x84It is an abstraction through which an \\napplication may send and receive data\\n\\x84Provide generic access to interprocess\\ncommunication services\\n\\x89e.g. IPX/SPX, Appletalk, TCP/IP\\n\\x84Standard API for networking\\nHostAppli cation\\nSocket\\nTCP\\nIP\\nHostAppli cation\\nSocket\\nTCP\\nIP\\nRouterIP Channel Channel\\nCS556 - Distributed Systems Tutori al by Eleftherios Kosmas 10\\n\\nSockets\\n\\x84Uniquely identified by\\n\\x89an internet address\\n\\x89an end-to-end protocol (e.g. TCP or UDP)\\n\\x89a port number\\n\\x84Two types of (TCP/IP) sockets\\n\\x89Stream sockets (e.g. uses TCP)\\n\\x84provide reliable byte-stream service\\n\\x89Datagram sockets (e.g. uses UDP)\\n\\x84provide best-effort datagram service\\n\\x84messages up to 65.500 bytes\\n\\x84Socket extend the convectional UNIX I/O facilities\\n\\x89file descriptors for network communication\\n\\x89extended the read and write system calls0\\n1\\n2internal data \\nstructure for file 1\\nFamily: PF _INET\\nService: SOCK_STREAM\\nLocal _IP:\\nRemote_IP:\\nRemote_Port:\\n…Local _Port: Descri ptor Table\\nCS556 - Distributed Systems Tutori al by Eleftherios Kosmas 11\\n\\nSockets\\nTCP UDP\\nIP1 2 6553 5 1 2 6553 5Applications\\nTCP sockets UDP socke ts\\nTCP ports UDP portsDescri ptor \\nreferences\\nSockets bound to ports\\nCS556 - Distributed Systems Tutori al by Eleftherios Kosmas 12\\n\\nSocket Programming\\nCS556 - Distributed Systems Tutori al by Eleftherios Kosmas 13\\n\\nClient-Server communication\\n\\x84Server \\n\\x89passively waits for and responds to clients\\n\\x89passive socket\\n\\x84Client\\n\\x89initiates the communication\\n\\x89must know the address and the port of the server\\n\\x89active socket\\nCS556 - Distributed Systems Tutori al by Eleftherios Kosmas 14\\n\\nSockets -P r o c e d u r e s\\nCS556 - Distributed Systems Tutori al by Eleftherios Kosmas 15\\n\\nClient - Server Communication -Unix\\nsocket()\\nbind()\\nlisten()\\naccept()\\nrecv()\\nsend()\\nclose()Server\\nsocket()\\nconnect()\\nsend()\\nrecv()\\nclose()Client\\nsynchro nizatio n \\npointStream \\n(e.g. TCP)\\nsocket()\\nbind()\\nrecvfrom()\\nsendto()\\nclose()Server\\nsocket()\\nsendto()\\nrecvfrom()\\nclose()ClientDatagram \\n(e.g. U DP)\\nbind()\\nCS556 - Distributed Systems Tutori al by Eleftherios Kosmas 16\\n\\nSocket creation in C: socket()\\n\\x84int sockid= socket( family, type, protocol );\\n\\x89sockid: socket descriptor, an integer (like a file-handle)\\n\\x89family : integer, communication domain, e.g.,\\n\\x84PF_INET, IPv4 protocols, Internet addresses (typically used)\\n\\x84PF_UNIX, Local communication, File addresses\\n\\x89type: communication type\\n\\x84SOCK_STREAM - reliable, 2-way, connection-based service\\n\\x84SOCK_DGRAM - unreliable, connectionl ess, messages of maximum length\\n\\x89protocol : specifies protocol \\n\\x84IPPROTO_TCP  IPPROTO_UDP\\n\\x84usually set to 0 (i.e., use default protocol)\\n\\x89upon failure returns -1\\n)NOTE: socket call does not specify where data will be coming from, \\nnor where it will be going to – it just creates the interface!\\nCS556 - Distributed Systems Tutori al by Eleftherios Kosmas 17\\n\\nClient - Server Communication -Unix\\nsocket()\\nbind()\\nlisten()\\naccept()\\nrecv()\\nsend()\\nclose()Server\\nsocket()\\nconnect()\\nsend()\\nrecv()\\nclose()Client\\nsynchro nizatio n \\npointStream \\n(e.g. TCP)\\nsocket()\\nbind()\\nrecvfrom()\\nsendto()\\nclose()Server\\nsocket()\\nsendto()\\nrecvfrom()\\nclose()ClientDatagram \\n(e.g. U DP)\\nbind()\\nCS556 - Distributed Systems Tutori al by Eleftherios Kosmas 18\\n\\nSocket close in C: close()\\n\\x84When finished using a socket, the socket should be closed\\n\\x84status= close( sockid);\\n\\x89sockid: the file descriptor (socket being closed)\\n\\x89status : 0 if successful, -1 if error\\n\\x84Closing a socket\\n\\x89closes a connection (for stream socket)\\n\\x89frees up the port used by the socket\\nCS556 - Distributed Systems Tutori al by Eleftherios Kosmas 19\\n\\nSpecifying Addresses\\n\\x84Socket API defines a generic data type for addresses:\\n\\x84Particular form of the sockaddr used for TCP/IP addresses:\\n)Important : sockaddr_in can be casted to a sockaddrstruct sockaddr {\\nunsigned short sa_family; /* Address family (e.g. AF_INET) */\\nchar sa_data[14];         /* Family-specific address information */\\n}\\nstruct in_addr {\\nunsigned long s_addr;        /* Internet address (32 bits) */\\n}\\nstruct sockaddr_in {\\nunsigned short sin_family;   /* Internet protocol (AF_INET) */\\nunsigned short sin_port;     /* Address port (16 bits) */\\nstruct in_addr sin_addr;   /* Internet address (32 bits) */\\nchar sin_zero[8];            /* Not used */\\n}\\nCS556 - Distributed Systems Tutori al by Eleftherios Kosmas 20\\n\\nClient - Server Communication -Unix\\nsocket()\\nbind()\\nlisten()\\naccept()\\nrecv()\\nsend()\\nclose()Server\\nsocket()\\nconnect()\\nsend()\\nrecv()\\nclose()Client\\nsynchro nizatio n \\npointStream \\n(e.g. TCP)\\nsocket()\\nbind()\\nrecvfrom()\\nsendto()\\nclose()Server\\nsocket()\\nsendto()\\nrecvfrom()\\nclose()ClientDatagram \\n(e.g. U DP)\\nbind()\\nCS556 - Distributed Systems Tutori al by Eleftherios Kosmas 21\\n\\nAssign address to socket: bind()\\n\\x84associates and reserves a port for use by the socket\\n\\x84int status = bind( sockid, &addrport , size);\\n\\x89sockid: integer, socket descriptor\\n\\x89addrport: struct sockaddr, the (IP) address and port of the machine\\n\\x84for TCP/IP server, internet address is usually set to INADDR_ANY, i.e., \\nchooses any incoming interface\\n\\x89size: the size (in bytes) of the addrport structure\\n\\x89status : upon failure -1 is returned\\nCS556 - Distributed Systems Tutori al by Eleftherios Kosmas 22\\n\\nbind()- Example with TCP\\nint sockid;\\nstruct sockaddr_in addrport ;\\nsockid= socket (PF_INET, SOCK_STREAM, 0);\\naddrport .sin_family = AF_INET;\\naddrport .sin_port = htons(5100);\\naddrport .sin_addr.s_addr = htonl(INADDR_ANY);\\nif(bind(sockid, (struct sockaddr *) & addrport , sizeof( addrport ))!= -1) { \\n…}\\nCS556 - Distributed Systems Tutori al by Eleftherios Kosmas 23\\n\\nSkipping the bind()\\n\\x84bind can be skipped for both types of sockets\\n\\x84Datagram socket:\\n\\x89if only sending, no need to bind.  Th e OS finds a port each time the socket \\nsends a packet\\n\\x89if receiving, need to bind\\n\\x84Stream socket:\\n\\x89destination determined during connection setup\\n\\x89don’t need to know port sending from  (during connection setup, receiving \\nend is informed of port)\\nCS556 - Distributed Systems Tutori al by Eleftherios Kosmas 24\\n\\nClient - Server Communication -Unix\\nsocket()\\nbind()\\nlisten()\\naccept()\\nrecv()\\nsend()\\nclose()Server\\nsocket()\\nconnect()\\nsend()\\nrecv()\\nclose()Client\\nsynchro nizatio n \\npointStream \\n(e.g. TCP)\\nsocket()\\nbind()\\nrecvfrom()\\nsendto()\\nclose()Server\\nsocket()\\nsendto()\\nrecvfrom()\\nclose()ClientDatagram \\n(e.g. U DP)\\nbind()\\nCS556 - Distributed Systems Tutori al by Eleftherios Kosmas 25'),\n",
              " Document(page_content=\"Multiple Recipients\\n\\x84So far, all sockets have dealt with unicastcommunication\\n\\x89i.e., an one-to-one communication, where one copy (“ uni”) of the data \\nis sent (“ cast”)\\n\\x84what if we want to send data to multiple recipients?\\n\\x841stSolution : unicast a copy of the data to each recipient\\n'inefficient, e.g., \\n\\x84consider we are connected to th e internet through a 3Mbps line\\n\\x84a video server sends 1-Mbps streams\\n\\x84then, server can support only three clients simultaneously\\n\\x842ndSolution : using network support\\n\\x89broadcast , all the hosts of the network receive the message\\n\\x89multicast , a message is sent to some subset of the host\\n)for IP: only UDP sockets are allowed to broadcast and multicast\\nCS556 - Distributed Systems Tutori al by Eleftherios Kosmas 92\\n\\nMultiple Recipients - Broadcast\\n\\x84Only the IP address changes\\n\\x84Local broadcast: to address 255.255.255.255\\n\\x89send the message to every host on the same broadcast network\\n\\x89not forwarded by the routers\\n\\x84Directed broadcast: \\n\\x89for network identifier 169.125 (i.e., with subnet mask 255.255.0.0 )\\n\\x89the directed broadcast address is 169.125.255.255\\n\\x84No network-wide broadcast address is available\\n\\x89why?\\n#In order to use broadcast the options of socket must change:\\nint broadcastPermission = 1;\\nsetsockopt(sock, SOL_SOCKET , SO_BROADCAST, (void*) \\n&broadcastPermission, sizeo f(broadcastPermission));\\nCS556 - Distributed Systems Tutori al by Eleftherios Kosmas 93\\n\\nMultiple Recipients -M u l t i c a s t\\n\\x84Using class D addresses\\n\\x89range from 224.0.0.0 to 239.255.255.255\\n\\x84hosts send multicast requests for specific addresses\\n\\x84a multicast group is formed\\n#we need to set TTL (time-to-live), to limit the number of hops\\n-u s i n g  sockopt()\\n#no need to change the options of socket\\nCS556 - Distributed Systems Tutori al by Eleftherios Kosmas 94\\n\\nUseful Functions\\n\\x84int atoi(const char *nptr);\\n\\x89converts the initial portion of  the string pointed to by nptr to int\\n\\x84int inet_aton (const char *cp, struct in_addr *inp);\\n\\x89converts the Internet host address cpfrom the IPv4 numbers-and-\\ndots notation into binary fo rm (in network byte order) \\n\\x89stores it in the structure that inp points to.  \\n\\x89it returns nonzero if the addr ess is valid, and 0 if not\\n\\x84char *inet_ntoa (struct in_addr in);\\n\\x89converts the Internet host address in, given in network byte order, to \\na string in IPv4 dotted-decimal notation\\ntypedef uint32_t in_addr_t;\\nstruct in_addr {\\nin_addr_t s_addr;\\n};\\nCS556 - Distributed Systems Tutori al by Eleftherios Kosmas 95\\n\\nUseful Functions\\n\\x84int getpeername (int sockfd, struct sockaddr *addr, \\nsocklen_t *addrlen);\\n\\x89returns the address (IP and port) of the peer connected to the socket \\nsockfd , in the buffer pointed to by addr\\n\\x890 is returned on success; -1 otherwise\\n\\x84int getsockname (int sockfd, struct sockaddr *addr, \\nsocklen_t *addrlen);\\n\\x89returns the current addres s to which the socket sockfd is bound, in the \\nbuffer pointed to by addr\\n\\x890 is returned on success; -1 otherwise\\nCS556 - Distributed Systems Tutori al by Eleftherios Kosmas 96\\n\\nDomain Name Service\\n\\x84struct hostent * gethostbyname (const char *name);\\n\\x89returns a structure of type hostent for the given host name  \\n\\x89name is a hostname, or an IPv4 addr ess in standard dot notation\\ne.g.   gethostbyname(“www.csd.uoc.gr”);\\n\\x84struct hostent * gethostbyaddr (const void *addr, \\nsocklen_t len, int type);\\n\\x89returns  a structure of type hostent f or the given host address addr of \\nlength len and address type type\\nstruct hostent {\\nchar  *h_name;       /* official name of host */\\nchar **h_aliases;    /* alias list (strings) */\\nint    h_addrtype;   /* host address type (AF_INET) */\\nint    h_length;     /* length of address */\\nchar **h_addr_list;  /* list of addresses (binary in network byte order) */\\n}\\n#define h_addr h_addr_list[0] /* for backward compatibility */\\nCS556 - Distributed Systems Tutori al by Eleftherios Kosmas 97\\n\\nDomain Name Service\\n\\x84struct servent * getservbyname (const char *name, \\nconst char *proto);\\n\\x89returns a servent structure for the entry from the database that \\nmatches the service name using protocol proto.   \\n\\x89if proto is NULL, any protocol will be matched.\\ne.g.   getservbyname(“echo”, “tcp”) ;\\n\\x84struct servent * getservbyport (int port, const char \\n*proto);\\n\\x89returns a servent structure for the entry from the database that \\nmatches the service name using port port\\nstruct servent {\\nchar  *s_name;       /* official service name */\\nchar **s_aliases;    /* list of alternate names (strings)*/\\nint    s_port;       /* service port number */\\nchar  *s_proto;      /* protocol to use (“tcp” or “udp”)*/\\n}\\nCS556 - Distributed Systems Tutori al by Eleftherios Kosmas 98\\n\\nCompiling and Executing\\n\\x84include the required header files\\n\\x84Example:\\nmilo:~/CS556/sockets> gcc -o TCPEch oServer TCPEchoServer.c DieWithError.c HandleTCPClient.c\\nmilo:~/CS556/sockets> gcc -o TCPEchoClient TCPEchoClient.c DieWithError.c\\nmilo:~/CS556/sockets> TCPEchoServer 3451 &\\n[1] 6273\\nmilo:~/CS556/sockets> TCPEc hoClient 0.0.0.0 hello! 3451\\nHandling client 127.0.0.1\\nReceived: hello!\\nmilo:~/CS556/sockets> ps\\nPID TTY          TIME CMD\\n5128 pts/9    00:00:00 tcsh\\n6273 pts/9    00:00:00 TCPEchoServer\\n6279 pts/9    00:00:00 ps\\nmilo:~/CS556/sockets> kill 6273\\nmilo:~/CS556/sockets>\\n[1]    Terminated                    TCPEchoServer 3451\\nmilo:~/CS556/sockets>\\nCS556 - Distributed Systems Tutori al by Eleftherios Kosmas 99\\n\\nThe End - Questions\\nCS556 - Distributed Systems Tutori al by Eleftherios Kosmas 100\"),\n",
              " Document(page_content=\"Multiple Recipients\\n\\x84So far, all sockets have dealt with unicastcommunication\\n\\x89i.e., an one-to-one communication, where one copy (“ uni”) of the data \\nis sent (“ cast”)\\n\\x84what if we want to send data to multiple recipients?\\n\\x841stSolution : unicast a copy of the data to each recipient\\n'inefficient, e.g., \\n\\x84consider we are connected to th e internet through a 3Mbps line\\n\\x84a video server sends 1-Mbps streams\\n\\x84then, server can support only three clients simultaneously\\n\\x842ndSolution : using network support\\n\\x89broadcast , all the hosts of the network receive the message\\n\\x89multicast , a message is sent to some subset of the host\\n)for IP: only UDP sockets are allowed to broadcast and multicast\\nCS556 - Distributed Systems Tutori al by Eleftherios Kosmas 92\\n\\nMultiple Recipients - Broadcast\\n\\x84Only the IP address changes\\n\\x84Local broadcast: to address 255.255.255.255\\n\\x89send the message to every host on the same broadcast network\\n\\x89not forwarded by the routers\\n\\x84Directed broadcast: \\n\\x89for network identifier 169.125 (i.e., with subnet mask 255.255.0.0 )\\n\\x89the directed broadcast address is 169.125.255.255\\n\\x84No network-wide broadcast address is available\\n\\x89why?\\n#In order to use broadcast the options of socket must change:\\nint broadcastPermission = 1;\\nsetsockopt(sock, SOL_SOCKET , SO_BROADCAST, (void*) \\n&broadcastPermission, sizeo f(broadcastPermission));\\nCS556 - Distributed Systems Tutori al by Eleftherios Kosmas 93\\n\\nMultiple Recipients -M u l t i c a s t\\n\\x84Using class D addresses\\n\\x89range from 224.0.0.0 to 239.255.255.255\\n\\x84hosts send multicast requests for specific addresses\\n\\x84a multicast group is formed\\n#we need to set TTL (time-to-live), to limit the number of hops\\n-u s i n g  sockopt()\\n#no need to change the options of socket\\nCS556 - Distributed Systems Tutori al by Eleftherios Kosmas 94\\n\\nUseful Functions\\n\\x84int atoi(const char *nptr);\\n\\x89converts the initial portion of  the string pointed to by nptr to int\\n\\x84int inet_aton (const char *cp, struct in_addr *inp);\\n\\x89converts the Internet host address cpfrom the IPv4 numbers-and-\\ndots notation into binary fo rm (in network byte order) \\n\\x89stores it in the structure that inp points to.  \\n\\x89it returns nonzero if the addr ess is valid, and 0 if not\\n\\x84char *inet_ntoa (struct in_addr in);\\n\\x89converts the Internet host address in, given in network byte order, to \\na string in IPv4 dotted-decimal notation\\ntypedef uint32_t in_addr_t;\\nstruct in_addr {\\nin_addr_t s_addr;\\n};\\nCS556 - Distributed Systems Tutori al by Eleftherios Kosmas 95\\n\\nUseful Functions\\n\\x84int getpeername (int sockfd, struct sockaddr *addr, \\nsocklen_t *addrlen);\\n\\x89returns the address (IP and port) of the peer connected to the socket \\nsockfd , in the buffer pointed to by addr\\n\\x890 is returned on success; -1 otherwise\\n\\x84int getsockname (int sockfd, struct sockaddr *addr, \\nsocklen_t *addrlen);\\n\\x89returns the current addres s to which the socket sockfd is bound, in the \\nbuffer pointed to by addr\\n\\x890 is returned on success; -1 otherwise\\nCS556 - Distributed Systems Tutori al by Eleftherios Kosmas 96\\n\\nDomain Name Service\\n\\x84struct hostent * gethostbyname (const char *name);\\n\\x89returns a structure of type hostent for the given host name  \\n\\x89name is a hostname, or an IPv4 addr ess in standard dot notation\\ne.g.   gethostbyname(“www.csd.uoc.gr”);\\n\\x84struct hostent * gethostbyaddr (const void *addr, \\nsocklen_t len, int type);\\n\\x89returns  a structure of type hostent f or the given host address addr of \\nlength len and address type type\\nstruct hostent {\\nchar  *h_name;       /* official name of host */\\nchar **h_aliases;    /* alias list (strings) */\\nint    h_addrtype;   /* host address type (AF_INET) */\\nint    h_length;     /* length of address */\\nchar **h_addr_list;  /* list of addresses (binary in network byte order) */\\n}\\n#define h_addr h_addr_list[0] /* for backward compatibility */\\nCS556 - Distributed Systems Tutori al by Eleftherios Kosmas 97\\n\\nDomain Name Service\\n\\x84struct servent * getservbyname (const char *name, \\nconst char *proto);\\n\\x89returns a servent structure for the entry from the database that \\nmatches the service name using protocol proto.   \\n\\x89if proto is NULL, any protocol will be matched.\\ne.g.   getservbyname(“echo”, “tcp”) ;\\n\\x84struct servent * getservbyport (int port, const char \\n*proto);\\n\\x89returns a servent structure for the entry from the database that \\nmatches the service name using port port\\nstruct servent {\\nchar  *s_name;       /* official service name */\\nchar **s_aliases;    /* list of alternate names (strings)*/\\nint    s_port;       /* service port number */\\nchar  *s_proto;      /* protocol to use (“tcp” or “udp”)*/\\n}\\nCS556 - Distributed Systems Tutori al by Eleftherios Kosmas 98\\n\\nCompiling and Executing\\n\\x84include the required header files\\n\\x84Example:\\nmilo:~/CS556/sockets> gcc -o TCPEch oServer TCPEchoServer.c DieWithError.c HandleTCPClient.c\\nmilo:~/CS556/sockets> gcc -o TCPEchoClient TCPEchoClient.c DieWithError.c\\nmilo:~/CS556/sockets> TCPEchoServer 3451 &\\n[1] 6273\\nmilo:~/CS556/sockets> TCPEc hoClient 0.0.0.0 hello! 3451\\nHandling client 127.0.0.1\\nReceived: hello!\\nmilo:~/CS556/sockets> ps\\nPID TTY          TIME CMD\\n5128 pts/9    00:00:00 tcsh\\n6273 pts/9    00:00:00 TCPEchoServer\\n6279 pts/9    00:00:00 ps\\nmilo:~/CS556/sockets> kill 6273\\nmilo:~/CS556/sockets>\\n[1]    Terminated                    TCPEchoServer 3451\\nmilo:~/CS556/sockets>\\nCS556 - Distributed Systems Tutori al by Eleftherios Kosmas 99\\n\\nThe End - Questions\\nCS556 - Distributed Systems Tutori al by Eleftherios Kosmas 100\"),\n",
              " Document(page_content='Skipping the bind()\\n\\x84bind can be skipped for both types of sockets\\n\\x84Datagram socket:\\n\\x89if only sending, no need to bind.  Th e OS finds a port each time the socket \\nsends a packet\\n\\x89if receiving, need to bind\\n\\x84Stream socket:\\n\\x89destination determined during connection setup\\n\\x89don’t need to know port sending from  (during connection setup, receiving \\nend is informed of port)\\nCS556 - Distributed Systems Tutori al by Eleftherios Kosmas 24\\n\\nClient - Server Communication -Unix\\nsocket()\\nbind()\\nlisten()\\naccept()\\nrecv()\\nsend()\\nclose()Server\\nsocket()\\nconnect()\\nsend()\\nrecv()\\nclose()Client\\nsynchro nizatio n \\npointStream \\n(e.g. TCP)\\nsocket()\\nbind()\\nrecvfrom()\\nsendto()\\nclose()Server\\nsocket()\\nsendto()\\nrecvfrom()\\nclose()ClientDatagram \\n(e.g. U DP)\\nbind()\\nCS556 - Distributed Systems Tutori al by Eleftherios Kosmas 25\\n\\nAssign address to socket: bind()\\n\\x84Instructs TCP protocol implementation to listen for connections\\n\\x84int status = listen( sockid, queueLimit);\\n\\x89sockid: integer, socket descriptor\\n\\x89queuelen : integer, # of active particip ants that can “wait” for a connection\\n\\x89status : 0 if listening, -1 if error \\n\\x84listen() is non-blocking : returns immediately\\n\\x84The listening socket (sockid)\\n\\x89is never used for sending and receiving\\n\\x89is used by the server only as a way to get new sockets\\nCS556 - Distributed Systems Tutori al by Eleftherios Kosmas 26\\n\\nClient - Server Communication -Unix\\nsocket()\\nbind()\\nlisten()\\naccept()\\nrecv()\\nsend()\\nclose()Server\\nsocket()\\nconnect()\\nsend()\\nrecv()\\nclose()Client\\nsynchro nizatio n \\npointStream \\n(e.g. TCP)\\nsocket()\\nbind()\\nrecvfrom()\\nsendto()\\nclose()Server\\nsocket()\\nsendto()\\nrecvfrom()\\nclose()ClientDatagram \\n(e.g. U DP)\\nbind()\\nCS556 - Distributed Systems Tutori al by Eleftherios Kosmas 27\\n\\nEstablish Connection: connect()\\n\\x84The client establishes a connection with the server by calling \\nconnect()\\n\\x84int status = connect( sockid, &foreignAddr , addrlen );\\n\\x89sockid: integer, socket to be used in connection\\n\\x89foreignAddr : struct sockaddr: address of the passive participant\\n\\x89addrlen : integer, sizeof(name)\\n\\x89status: 0 if successful connect, -1 otherwise\\n\\x84connect() is blocking\\nCS556 - Distributed Systems Tutori al by Eleftherios Kosmas 28\\n\\nIncoming Connection: accept()\\n\\x84The server gets a socket for an in coming client connection by calling \\naccept()\\n\\x84int s= accept(sockid, &clientAddr, & addrLen);\\n\\x89s: integer, the new socket (used for data-transfer)\\n\\x89sockid: integer, the orig. socket (being listened on)\\n\\x89clientAddr : struct sockaddr, address of the active participant\\n\\x84filled in upon return\\n\\x89addrLen : sizeof(clientAddr): value/result parameter\\n\\x84must be set appropriately before call\\n\\x84adjusted upon return\\n\\x84accept()\\n\\x89is blocking : waits for connection before returning \\n\\x89dequeues the next connection on the queue for socket (sockid)\\nCS556 - Distributed Systems Tutori al by Eleftherios Kosmas 29\\n\\nClient - Server Communication -Unix\\nsocket()\\nbind()\\nlisten()\\naccept()\\nrecv()\\nsend()\\nclose()Server\\nsocket()\\nconnect()\\nsend()\\nrecv()\\nclose()Client\\nsynchro nizatio n \\npointStream \\n(e.g. TCP)\\nsocket()\\nbind()\\nrecvfrom()\\nsendto()\\nclose()Server\\nsocket()\\nsendto()\\nrecvfrom()\\nclose()ClientDatagram \\n(e.g. U DP)\\nbind()\\nCS556 - Distributed Systems Tutori al by Eleftherios Kosmas 30\\n\\nExchanging data with stream socket\\n\\x84int count = send( sockid, msg, msgLen , flags);\\n\\x89msg: const void[], message to be transmitted\\n\\x89msgLen : integer, length of message (in bytes) to transmit\\n\\x89flags: integer, special options, usually just 0\\n\\x89count: # bytes transmitted (-1 if error)\\n\\x84int count = recv( sockid, recvBuf , bufLen , flags);\\n\\x89recvBuf : void[], stores received bytes\\n\\x89bufLen : # bytes received\\n\\x89flags: integer, special options, usually just 0\\n\\x89count: # bytes received (-1 if error)\\n\\x84Calls are blocking\\n\\x89returns only after data is sent / received\\nCS556 - Distributed Systems Tutori al by Eleftherios Kosmas 31\\n\\nExchanging data with datagram socket\\n\\x84int count = sendto( sockid, msg, msgLen, flags, \\n&foreignAddr , addrlen );\\n\\x89msg, msgLen, flags, count: same with send()\\n\\x89foreignAddr : struct sockaddr, address of the destination\\n\\x89addrLen : sizeof(foreignAddr)\\n\\x84int count = recvfrom( sockid, recvBuf , bufLen , \\nflags,& clientAddr, addrlen);\\n\\x89recvBuf , bufLen , flags, count: same with recv()\\n\\x89clientAddr : struct sockaddr, address of the client\\n\\x89addrLen : sizeof(clientAddr)\\n\\x84Calls are blocking\\n\\x89returns only after data is sent / received\\nCS556 - Distributed Systems Tutori al by Eleftherios Kosmas 32\\n\\nExample -E c h o\\n\\x84A client communicates with an “echo” server\\n\\x84The server simply echoes whatever it receives back to the client\\nCS556 - Distributed Systems Tutori al by Eleftherios Kosmas 33\\n\\nExample - Echo using stream socket\\nClient\\n1. Create a TCP socket\\n2. Establish connection\\n3. Communicate\\n4. Close the connectionServer\\n1. Create a TCP socket\\n2. Assign a port to socket\\n3. Set socket to listen\\n4. Repeatedly:\\na.Accept new connection\\nb.Communicate\\nc.Close the connection\\nCS556 - Distributed Systems Tutori al by Eleftherios Kosmas 34The server starts by getting ready to receive client connections…\\n\\nExample - Echo using stream socket\\nClient\\n1. Create a TCP socket\\n2. Establish connection\\n3. Communicate\\n4. Close the connectionServer\\n1. Create a TCP socket\\n2. Assign a port to socket\\n3. Set socket to listen\\n4. Repeatedly:\\na.Accept new connection\\nb.Communicate\\nc.Close the connection\\nCS556 - Distributed Systems Tutori al by Eleftherios Kosmas 35/* Create socket for incoming connections */\\nif ((servSock = socket(PF_INET, SOCK_STREAM,  IPPROTO_TCP)) < 0)\\nDieWithError(\"socket() failed\");\\n\\nExample - Echo using stream socket\\nClient\\n1. Create a TCP socket\\n2. Establish connection\\n3. Communicate\\n4. Close the connectionServer\\n1. Create a TCP socket\\n2. Assign a port to socket\\n3. Set socket to listen\\n4. Repeatedly:\\na.Accept new connection\\nb.Communicate\\nc.Close the connectionechoServAddr .sin_family = AF_INET;                /* Internet address family */\\nechoServAddr .sin_addr.s_addr = htonl(INADDR_ANY );     /* Any incoming interface */\\nechoServAddr .sin_port = htons(echoServPort);      /* Local port */\\nif (bind(servSock , (struct sockaddr *) & echoServAddr , sizeof(echoServAddr )) < 0)\\nDieWithError(\"bind() failed\");\\nCS556 - Distributed Systems Tutori al by Eleftherios Kosmas 36\\n\\nExample - Echo using stream socket\\nClient\\n1. Create a TCP socket\\n2. Establish connection\\n3. Communicate\\n4. Close the connectionServer\\n1. Create a TCP socket\\n2. Assign a port to socket\\n3. Set socket to listen\\n4. Repeatedly:\\na.Accept new connection\\nb.Communicate\\nc.Close the connection/* Mark the socket so it will li sten for incoming connections */\\nif (listen (servSock , MAXPENDING) < 0)\\nDieWithError(\"listen() failed\");\\nCS556 - Distributed Systems Tutori al by Eleftherios Kosmas 37\\n\\nExample - Echo using stream socket\\nClient\\n1. Create a TCP socket\\n2. Establish connection\\n3. Communicate\\n4. Close the connectionServer\\n1. Create a TCP socket\\n2. Assign a port to socket\\n3. Set socket to listen\\n4. Repeatedly:\\na.Accept new connection\\nb.Communicate\\nc.Close the connectionfor (;;) /* Run forever */\\n{\\nclntLen = sizeof(echoClntAddr);\\nif ((clientSock =accept(servSock,(struct sockaddr *)&ec hoClntAddr,&clntLen))<0)\\nDieWithError(\"accept() failed\");\\n...\\nCS556 - Distributed Systems Tutori al by Eleftherios Kosmas 38\\n\\nExample - Echo using stream socket\\nClient\\n1. Create a TCP socket\\n2. Establish connection\\n3. Communicate\\n4. Close the connectionServer\\n1. Create a TCP socket\\n2. Assign a port to socket\\n3. Set socket to listen\\n4. Repeatedly:\\na.Accept new connection\\nb.Communicate\\nc.Close the connection\\nCS556 - Distributed Systems Tutori al by Eleftherios Kosmas 39Server is now blocked waiting for connection from a client\\n…\\nA client decides to talk to the server\\n\\nExample - Echo using stream socket\\nClient\\n1. Create a TCP socket\\n2. Establish connection\\n3. Communicate\\n4. Close the connectionServer\\n1. Create a TCP socket\\n2. Assign a port to socket\\n3. Set socket to listen\\n4. Repeatedly:\\na.Accept new connection\\nb.Communicate\\nc.Close the connection/* Create a reliable, stream socket using TCP */\\nif ((clientSock = socket(PF_INET, SOCK_STREAM, IPPROTO_TCP)) < 0)\\nDieWithError(\"socket() failed\");\\nCS556 - Distributed Systems Tutori al by Eleftherios Kosmas 40\\n\\nExample - Echo using stream socket\\nClient\\n1. Create a TCP socket\\n2. Establish connection\\n3. Communicate\\n4. Close the connectionServer\\n1. Create a TCP socket\\n2. Assign a port to socket\\n3. Set socket to listen\\n4. Repeatedly:\\na.Accept new connection\\nb.Communicate\\nc.Close the connectionechoServAddr .sin_family = AF_INET;                     /* Internet address family */\\nechoServAddr .sin_addr.s_addr = inet_addr(echoservIP );    /* Server IP address*/\\nechoServAddr .sin_port = htons(echoServ Port);          /* Server port */\\nif (connect(clientSock, (struct sockaddr *) & echoServAddr, \\nsizeof(echoServAddr)) < 0)\\nDieWithError(\"conn ect() failed\");\\nCS556 - Distributed Systems Tutori al by Eleftherios Kosmas 41\\n\\nExample - Echo using stream socket\\nClient\\n1. Create a TCP socket\\n2. Establish connection\\n3. Communicate\\n4. Close the connectionServer\\n1. Create a TCP socket\\n2. Assign a port to socket\\n3. Set socket to listen\\n4. Repeatedly:\\na.Accept new connection\\nb.Communicate\\nc.Close the connectionfor (;;) /* Run forever */\\n{\\nclntLen = sizeof(echoClntAddr);\\nif ((clientSock =accept(servSock,(struct sockaddr *)&ec hoClntAddr,&clntLen))<0)\\nDieWithError(\"accept() failed\");\\n...Server’s accept procedure in now unblocked and returns client’s socket\\nCS556 - Distributed Systems Tutori al by Eleftherios Kosmas 42')]"
            ]
          },
          "metadata": {},
          "execution_count": 40
        }
      ]
    },
    {
      "cell_type": "code",
      "source": [
        "from langchain.chains import RetrievalQA\n",
        "from langchain.prompts import PromptTemplate\n",
        "\n",
        "template = \"\"\"Use the following pieces of context to answer the question at the end from the file. If the answer is not in file, just say that its not, don't try to make up an answer. Keep the answer as concise as possible. Always say \"thanks for asking!\" at the end of the answer.\n",
        "{context}\n",
        "Question : {question}\n",
        "Answer:\"\"\"\n",
        "QA_CHAIN_PROMPT = PromptTemplate.from_template(template) # Run Chain\n",
        "\n",
        "qa_chain = RetrievalQA.from_chain_type(\n",
        "    llm = llm2,\n",
        "    retriever=vector_index,\n",
        "    return_source_documents=True,\n",
        "    chain_type_kwargs={\"prompt\": QA_CHAIN_PROMPT}\n",
        ")\n"
      ],
      "metadata": {
        "id": "ovq02Lyhit_H"
      },
      "execution_count": 41,
      "outputs": []
    },
    {
      "cell_type": "code",
      "source": [
        "question = \"Summarise the pdf \"\n",
        "result = qa_chain({\"query\": question})\n",
        "result[\"result\"]"
      ],
      "metadata": {
        "colab": {
          "base_uri": "https://localhost:8080/",
          "height": 53
        },
        "id": "dsZxyUN6kKjv",
        "outputId": "1ae2c902-41bb-4373-c604-8196347d16dd"
      },
      "execution_count": 48,
      "outputs": [
        {
          "output_type": "execute_result",
          "data": {
            "text/plain": [
              "'This pdf introduces the basics of socket programming in Unix. It covers the following topics:\\n- Creating a socket\\n- Binding a socket to a port\\n- Listening for connections\\n- Accepting connections\\n- Sending and receiving data\\n- Closing a socket'"
            ],
            "application/vnd.google.colaboratory.intrinsic+json": {
              "type": "string"
            }
          },
          "metadata": {},
          "execution_count": 48
        }
      ]
    },
    {
      "cell_type": "code",
      "source": [
        "Markdown(result[\"result\"])"
      ],
      "metadata": {
        "colab": {
          "base_uri": "https://localhost:8080/",
          "height": 156
        },
        "id": "9sUhXKLLkMdq",
        "outputId": "849142d5-3086-45ad-c385-272503fa7634"
      },
      "execution_count": 49,
      "outputs": [
        {
          "output_type": "execute_result",
          "data": {
            "text/plain": [
              "<IPython.core.display.Markdown object>"
            ],
            "text/markdown": "This pdf introduces the basics of socket programming in Unix. It covers the following topics:\n- Creating a socket\n- Binding a socket to a port\n- Listening for connections\n- Accepting connections\n- Sending and receiving data\n- Closing a socket"
          },
          "metadata": {},
          "execution_count": 49
        }
      ]
    }
  ]
}